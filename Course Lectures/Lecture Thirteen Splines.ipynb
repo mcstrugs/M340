{
 "cells": [
  {
   "cell_type": "code",
   "execution_count": 1,
   "metadata": {},
   "outputs": [],
   "source": [
    "import numpy as np\n",
    "import matplotlib.pyplot as plt\n",
    "from scipy.sparse import spdiags\n",
    "from scipy.sparse.linalg import spsolve\n",
    "\n",
    "%matplotlib inline"
   ]
  },
  {
   "cell_type": "markdown",
   "metadata": {},
   "source": [
    "## **Example: Quadratic Splines**\n",
    "\n",
    "a) Develop quadratic splines for the following data points in the table below.\n",
    "\n",
    "b) Using quadratic splines, estimate the value of $f$(3.4) and $f$(2.2).\n",
    "\n",
    "| x| $f$(x)|\n",
    "|:---:|:----:|\n",
    "|1|1|\n",
    "|2|5|\n",
    "|2.5|7|\n",
    "|3|8|\n",
    "|4|2|"
   ]
  },
  {
   "cell_type": "markdown",
   "metadata": {},
   "source": [
    "The 3$n$ (i.e. 12 equations ) are:\n",
    "\n",
    "At end points:\n",
    "$$a_1(1)^2 + b_1 (1) + c_1 = 1$$\n",
    "$$a_4(4)^2 + b_4 (4) + c_4 = 2$$\n",
    "\n",
    "At interior points:\n",
    "$$a_1(2)^2 + b_1 (2) + c_1 = 5$$\n",
    "$$a_2(2)^2 + b_2 (2) + c_2 = 5$$\n",
    "$$a_2(2.5)^2 + b_2 (2.5) + c_2 = 7$$\n",
    "$$a_3(2.5)^2 + b_3 (2.5) + c_3 = 7$$\n",
    "$$a_3(3)^2 + b_3 (3) + c_3 = 8$$\n",
    "$$a_4(3)^2 + b_4 (3) + c_4 = 8$$\n",
    "\n",
    "Derivatives at interior points:\n",
    "$$2a_1(2) + b_1 = 2a_2(2) + b_2$$\n",
    "$$2a_2(2.5) + b_2 = 2a_3(2.5) + b_3$$\n",
    "$$2a_3(3) + b_3 = 2a_4(3) + b_4$$\n",
    "\n",
    "Choosing the first spline to be linear:\n",
    "$$a_1 = 0$$\n",
    "\n",
    "Since $a_1=0$ ia already known, we solve the remaining 11 equations to obtain the remaining 11 unknowns\n",
    "\n",
    "$$\\begin{bmatrix} 1 & 1 & 0 & 0 & 0 & 0 & 0 & 0 & 0 & 0 & 0  \\\\ \n",
    " 0 & 0 & 0 & 0 & 0 & 0 & 0 & 0 & 16 & 4 & 1  \\\\\n",
    " 2 & 1 & 0 & 0 & 0 & 0 & 0 & 0 & 0 & 0 & 0  \\\\\n",
    " 0 & 0 & 4 & 2 & 1 & 0 & 0 & 0 & 0 & 0 & 0  \\\\\n",
    " 0 & 0 & 6.25 & 2.5 & 1 & 0 & 0 & 0 & 0 & 0 & 0  \\\\\n",
    " 0 & 0 & 0 & 0 & 0 & 6.25 & 2.5 & 1 & 0 & 0 & 0  \\\\\n",
    " 0 & 0 & 0 & 0 & 0 & 9 & 3 & 1 & 0 & 0 & 0  \\\\\n",
    " 0 & 0 & 0 & 0 & 0 & 0 & 0 & 0 & 9 & 3 & 1  \\\\\n",
    " 1 & 0 & -4 & -1 & 0 & 0 & 0 & 0 & 0 & 0 & 0  \\\\\n",
    " 0 & 0 & 5 & 1 & 0 & -5 & -1 & 0 & 0 & 0 & 0   \\\\\n",
    " 0 & 0 & 0 & 0 & 0 & 6 & 1 & 0 & -6 & -1 & 0  \n",
    "\\end{bmatrix}\n",
    "\\begin{pmatrix} b_1\\\\c_1\\\\a_2 \\\\ b_2\\\\c_2\\\\a_3 \\\\ b_3\\\\c_3\\\\a_4 \\\\ b_4\\\\c_4\n",
    "\\end{pmatrix} = \\begin{pmatrix} 1\\\\2\\\\5 \\\\ 5\\\\7\\\\7 \\\\ 8\\\\8\\\\0 \\\\ 0\\\\0\n",
    "\\end{pmatrix}$$"
   ]
  },
  {
   "cell_type": "code",
   "execution_count": 2,
   "metadata": {},
   "outputs": [
    {
     "name": "stdout",
     "output_type": "stream",
     "text": [
      "[ 4.00000000e+00 -3.00000000e+00 -7.10542736e-17  4.00000000e+00\n",
      " -3.00000000e+00 -4.00000000e+00  2.40000000e+01 -2.80000000e+01\n",
      " -6.00000000e+00  3.60000000e+01 -4.60000000e+01]\n"
     ]
    }
   ],
   "source": [
    "A = np.array([[1 , 1 , 0 , 0 , 0 , 0 , 0 , 0 , 0 , 0 , 0], \n",
    "              [ 0 , 0 , 0 , 0 , 0 , 0 , 0 , 0 , 16 , 4 , 1 ], \n",
    "              [2 , 1 , 0 , 0 , 0 , 0 , 0 , 0 , 0 , 0 , 0 ],\n",
    "              [0 , 0 , 4 , 2 , 1 , 0 , 0 , 0 , 0 , 0 , 0],\n",
    "              [0 , 0 , 6.25 , 2.5 , 1 , 0 , 0 , 0 , 0 , 0 , 0],\n",
    "              [0 , 0 , 0 , 0 , 0 , 6.25 , 2.5 , 1 , 0 , 0 , 0],\n",
    "              [0 , 0 , 0 , 0 , 0 , 9 , 3 , 1 , 0 , 0 , 0],\n",
    "              [0 , 0 , 0 , 0 , 0 , 0 , 0 , 0 , 9 , 3 , 1],\n",
    "              [1 , 0 , -4 , -1 , 0 , 0 , 0 , 0 , 0 , 0 , 0],\n",
    "              [0 , 0 , 5 , 1 , 0 , -5 , -1 , 0 , 0 , 0 , 0],\n",
    "              [0 , 0 , 0 , 0 , 0 , 6 , 1 , 0 , -6 , -1 , 0 ]])\n",
    "\n",
    "b = np.array([ 1, 2, 5 , 5 , 7 , 7 , 8 , 8 , 0 , 0 ,0])\n",
    "x = np.linalg.solve(A,b)\n",
    "\n",
    "print(x)"
   ]
  },
  {
   "cell_type": "markdown",
   "metadata": {},
   "source": [
    "Therefore\n",
    "\n",
    "$$\\begin{pmatrix} b_1\\\\c_1\\\\a_2 \\\\ b_2\\\\c_2\\\\a_3 \\\\ b_3\\\\c_3\\\\a_4 \\\\ b_4\\\\c_4\n",
    "\\end{pmatrix} = \\begin{pmatrix} 4\\\\-3\\\\0 \\\\ 4\\\\-3\\\\-4 \\\\ 24\\\\-28\\\\-6 \\\\ 36\\\\-46\n",
    "\\end{pmatrix}$$\n",
    "\n",
    "Since the equation of the splines are (this was discussed in the video on 'Spline Interpolation):\n",
    "\n",
    "$$f(x) = a_1 x^2 + b_1 x + c_1 $$\n",
    "$$f(x) = a_2 x^2 + b_2 x + c_2 $$\n",
    "$$f(x) = a_3 x^2 + b_3 x + c_3 $$\n",
    "$$f(x) = a_4 x^2 + b_4 x + c_4 $$\n",
    "\n",
    "We obtain, after plugging in the coefficients above that, the following expressions for the equations of the splines:\n",
    "$$f(x) =  4 x  -3 $$\n",
    "$$f(x) =  4 x -3 $$\n",
    "$$f(x) = -4 x^2 + 24 x -28 $$\n",
    "$$f(x) = -6 x^2 + 36 x -46 $$\n",
    "\n",
    "Therefore \n",
    "$$f(3.4) = -6 (3.4)^2 + 36 (3.4) -46  = 7.04$$\n",
    "\n",
    "and\n",
    "\n",
    "$$f(2.2) = 4 (2.2) -3  = 5.8$$"
   ]
  },
  {
   "cell_type": "markdown",
   "metadata": {},
   "source": [
    "Before we discuss Cublic Splines, I would like you to learn how to create a tridiagonal matrix. This is because the system of equation for cublic splines is of the form Ax = b, where x and b are vectors and the matrix A is a tridiagonal matrix.\n",
    "\n",
    "**Exercise: Creating a tridiagonal matrix** \n",
    "\n",
    "Given that $$A = \\begin{bmatrix} 1 & 8 & 0 & 0 & 0 & 0\\\\ 13 & 2 & 9 & 0 & 0 & 0\\\\0 & 14 & 3 & 10 & 0 & 0\\\\ 0 & 0 & 15 & 4 & 11 & 0 \\\\0 & 0 & 0 & 16 & 5 & 12 \\\\ 0 & 0 & 0 & 0 & 17 & 6\\end{bmatrix} $$"
   ]
  },
  {
   "cell_type": "code",
   "execution_count": 3,
   "metadata": {},
   "outputs": [
    {
     "data": {
      "text/plain": [
       "array([[ 1,  8,  0,  0,  0,  0],\n",
       "       [13,  2,  9,  0,  0,  0],\n",
       "       [ 0, 14,  3, 10,  0,  0],\n",
       "       [ 0,  0, 15,  4, 11,  0],\n",
       "       [ 0,  0,  0, 16,  5, 12],\n",
       "       [ 0,  0,  0,  0, 17,  6]])"
      ]
     },
     "execution_count": 3,
     "metadata": {},
     "output_type": "execute_result"
    }
   ],
   "source": [
    "n = 6\n",
    "diag = [1, 2, 3, 4, 5, 6] \n",
    "diagplus = [7, 8, 9, 10, 11, 12]\n",
    "diagminus  = [13, 14, 15, 16, 17, 18]\n",
    "\n",
    "data = np.array([diag,diagminus,diagplus])    \n",
    "\n",
    "dvals = np.array([0,-1,1])\n",
    "\n",
    "Amat = spdiags(data, dvals, n, n)\n",
    "Amat.toarray() "
   ]
  },
  {
   "cell_type": "code",
   "execution_count": null,
   "metadata": {},
   "outputs": [],
   "source": []
  },
  {
   "cell_type": "markdown",
   "metadata": {},
   "source": [
    "## Cubic Splines\n",
    "\n",
    "So, an alternative to our approach above is to use a more less global, or more global approach, in which we do interpolation via piecewise defined functions called _ splines _.  As before, we start our discussion with a data set \n",
    "\n",
    "$$\n",
    "\\left\\{x_{j},f_{j}\\right\\}_{j=0}^{n}.\n",
    "$$\n",
    "\n",
    "We now define our _cubic splines_ $S_{j}(x)$ to be third order polynomials, i.e. \n",
    "\n",
    "$$\n",
    "S_{j}(x) = a_{j}(x-x_{j})^{3} + b_{j}(x-x_{j})^{2} + c_{j}(x-x_{j}) + d_{j},\n",
    "$$\n",
    "\n",
    "such that \n",
    "\n",
    "\\begin{align}\n",
    "S_{j}(x_{j}) = & f_{j}, ~ j=0,\\cdots,n-1\\\\\n",
    "S_{j}(x_{j+1}) = & S_{j+1}(x_{j+1}), ~ j=0,\\cdots,n-2 \\\\\n",
    "S'_{j}(x_{j+1}) = & S'_{j+1}(x_{j+1}), ~ j=0,\\cdots,n-2 \\\\\n",
    "S''_{j}(x_{j+1}) = & S''_{j+1}(x_{j+1}), ~ j=0,\\cdots,n-2 \n",
    "\\end{align}\n",
    "\n",
    "which is to say, we require that we interpolate the data, and the each spline as  its first and second derivatives be continuous at each node.  Finally, we require that \n",
    "\n",
    "$$\n",
    "S_{n-1}(x_{n}) = f_{n}, ~ S''_{0}(x_{0})=0, ~ S''_{n-1}(x_{n}) = 0.\n",
    "$$\n",
    "\n",
    "We readily see then that $d_{j}= f_{j}$.  Define \n",
    "\n",
    "$$\n",
    "\\delta x_{j} = x_{j+1} -x_{j}, ~ \\delta f_{j} = f_{j+1} - f_{j}.\n",
    "$$\n",
    "\n",
    "Then from above we get the system of equations for  $j=0,\\cdots,n-2$\n",
    "\n",
    "\\begin{align}\n",
    "a_{j}(\\delta x_{j})^{2} + b_{j}\\delta x_{j} + c_{j} = & \\frac{\\delta f_{j}}{\\delta x_{j}},\\\\\n",
    "3a_{j}(\\delta x_{j})^{2} + 2b_{j}\\delta x_{j} + c_{j} = & c_{j+1},\\\\\n",
    "3a_{j}\\delta x_{j} + b_{j} = & b_{j+1} \n",
    "\\end{align}\n",
    "\n",
    "The end point conditions give us\n",
    "\n",
    "$$\n",
    "a_{n-1}\\left(\\delta x_{n-1}\\right)^{2} + b_{n-1}\\delta x_{n-1} + c_{n-1} = \\frac{\\delta f_{n-1}}{\\delta x_{n-1}},\n",
    "$$\n",
    "\n",
    "and\n",
    "\n",
    "$$\n",
    "b_{0}=0, ~ 3a_{n-1}\\delta x_{n-1} + b_{n-1} = 0.\n",
    "$$\n",
    "\n",
    "Solving for $a_{j}$ gives us, \n",
    "\n",
    "$$\n",
    "a_{j} = \\frac{1}{\\delta x_{j}^{2}}\\left(\\frac{\\delta f_{j}}{\\delta x_{j}} - c_{j} - b_{j}\\delta x_{j}\\right), ~ j=0,\\cdots,n-1,\n",
    "$$\n",
    "\n",
    "and in turn we then find that \n",
    "\n",
    "\\begin{align}\n",
    "3\\frac{\\delta f_{j}}{\\delta x_{j}} - b_{j}\\delta x_{j} - 2c_{j} = & c_{j+1}, ~ j=0,\\cdots,n-2\\\\\n",
    "3\\frac{\\delta f_{j}}{(\\delta x_{j})^{2}} - 3\\frac{c_{j}}{\\delta x_{j}} - 2b_{j} = & b_{j+1}, ~j=0,\\cdots,n-2,\n",
    "\\end{align}\n",
    "\n",
    "and\n",
    "\n",
    "$$\n",
    "c_{n-1} = \\frac{\\delta f_{n-1}}{\\delta x_{n-1}} - \\frac{2}{3}\\delta x_{n-1}b_{n-1}.\n",
    "$$\n",
    "\n",
    "Likewise, solving for $c_{j}$ then gives us\n",
    "\n",
    "$$\n",
    "c_{j} = \\frac{\\delta f_{j}}{\\delta x_{j}} - \\frac{\\delta x_{j}}{3}\\left( 2b_{j} + b_{j+1}\\right), ~ j=0,\\cdots,n-2.\n",
    "$$\n",
    "\n",
    "Ultimately then, we arrive at the system of equations, for $j=1,\\cdots,n-3$, \n",
    "\n",
    "$$\n",
    "\\frac{\\delta x_{j}}{3} b_{j} + \\frac{2}{3}\\left(\\delta x_{j} + \\delta x_{j+1} \\right)b_{j+1} + \\frac{\\delta x_{j+1}}{3} b_{j+2} = \\frac{\\delta f_{j+1}}{\\delta x_{j+1}} - \\frac{\\delta f_{j}}{\\delta x_{j}},\n",
    "$$\n",
    "\n",
    "and\n",
    "\n",
    "$$\n",
    "\\frac{2}{3}\\left(\\delta x_{0} + \\delta x_{1} \\right)b_{1} + \\frac{\\delta x_{1}}{3} b_{2} = \\frac{\\delta f_{1}}{\\delta x_{1}} - \\frac{\\delta f_{0}}{\\delta x_{0}},\n",
    "$$\n",
    "\n",
    "and\n",
    "\n",
    "$$\n",
    "\\frac{\\delta x_{n-2}}{3} b_{n-2} + \\frac{2}{3}\\left(\\delta x_{n-2} + \\delta x_{n-1} \\right)b_{n-1} = \\frac{\\delta f_{n-1}}{\\delta x_{n-1}} - \\frac{\\delta f_{n-2}}{\\delta x_{n-2}}.\n",
    "$$\n",
    "\n",
    "At this point, we should talk about solving the problem $Ab=\\delta f$ where $A$ is a self-adjoint tridiagonal matrix, but that is beyond the scope of this course.  Suffice to say that NumPy makes doing this straightforward and efficient.  This is done in the code below.   "
   ]
  },
  {
   "cell_type": "code",
   "execution_count": 4,
   "metadata": {},
   "outputs": [],
   "source": [
    "def spline_maker(xvals,fvals,qvals):\n",
    "    # m = fvals.size\n",
    "    # note, from above, n = m-1\n",
    "    \n",
    "    n = fvals.size - 1\n",
    "    df = fvals[1:]-fvals[0:n]\n",
    "    dx = xvals[1:]-xvals[0:n]\n",
    "    dfdx = df/dx\n",
    "    svals = np.zeros(qvals.size)\n",
    "    \n",
    "    rhs = dfdx[1:] - dfdx[0:n-1]\n",
    "    diag = 2./3.*(dx[1:] + dx[0:n-1])\n",
    "    \n",
    "    data = np.array([diag,dx[1:]/3.,dx[0:n-1]/3.])\n",
    "    dvals = np.array([0,-1,1])\n",
    "    Bmat = spdiags(data, dvals, n-1, n-1)\n",
    "    bvec = spsolve(Bmat,rhs)\n",
    "    bvec = np.append(0.,bvec)\n",
    "    \n",
    "    cvec = dfdx - 2./3.*dx*bvec - dx/3.*np.append(bvec[1:],0.)\n",
    "    avec = (dfdx - dx*bvec - cvec)/(dx**2.)\n",
    "    \n",
    "    for jj in range(1,n+1):\n",
    "        \n",
    "        indsr = qvals < xvals[jj] \n",
    "        indsl = qvals >= xvals[jj-1]\n",
    "        inds = indsl*indsr\n",
    "        \n",
    "        dxloc = qvals[inds] - xvals[jj-1]\n",
    "        svals[inds] = avec[jj-1]*dxloc**3. + bvec[jj-1]*dxloc**2. + cvec[jj-1]*dxloc + fvals[jj-1]\n",
    "        \n",
    "    return svals"
   ]
  },
  {
   "cell_type": "markdown",
   "metadata": {},
   "source": [
    "Revisiting the example from above in which \n",
    "\n",
    "$$\n",
    "f(x) = \\frac{1}{1+x^{2}}, ~ -1\\leq x \\leq 1,\n",
    "$$\n",
    "\n",
    "we can now test our spline approximation scheme.  As we show, it can be very accurate, and while our arbitrary choice of enforcing zero curvature at the endpoints does cost us some amount of accuracy, we do not have anything resembling the problems we saw above with Lagrange interpolation.  Thus, splines offer us an accurate, efficient, and flexible means of interpolating data. "
   ]
  },
  {
   "cell_type": "code",
   "execution_count": 5,
   "metadata": {},
   "outputs": [
    {
     "name": "stderr",
     "output_type": "stream",
     "text": [
      "/anaconda2/lib/python2.7/site-packages/scipy/sparse/linalg/dsolve/linsolve.py:133: SparseEfficiencyWarning: spsolve requires A be CSC or CSR matrix format\n",
      "  SparseEfficiencyWarning)\n"
     ]
    },
    {
     "data": {
      "text/plain": [
       "[<matplotlib.lines.Line2D at 0xa18d912d0>]"
      ]
     },
     "execution_count": 5,
     "metadata": {},
     "output_type": "execute_result"
    },
    {
     "data": {
      "image/png": "[encoded data removed]",
      "text/plain": [
       "<Figure size 432x288 with 1 Axes>"
      ]
     },
     "metadata": {
      "needs_background": "light"
     },
     "output_type": "display_data"
    }
   ],
   "source": [
    "xvs = np.linspace(-1.,1.,int(1e3)+1)\n",
    "fvs = 1./(1.+xvs**2.)\n",
    "ivals = np.linspace(-.99,.99,int(5e3))\n",
    "ftrue = 1./(1.+ivals**2.)\n",
    "\n",
    "svals = spline_maker(xvs,fvs,ivals)\n",
    "#plt.plot(ivals,svals,ls='-',color='k')\n",
    "#plt.plot(ivals,ftrue,ls='--',color='r')\n",
    "plt.plot(ivals,np.ma.log10(np.abs(ftrue-svals)))"
   ]
  },
  {
   "cell_type": "markdown",
   "metadata": {},
   "source": []
  },
  {
   "cell_type": "code",
   "execution_count": null,
   "metadata": {},
   "outputs": [],
   "source": []
  }
 ],
 "metadata": {
  "kernelspec": {
   "display_name": "Python 3",
   "language": "python",
   "name": "python3"
  },
  "language_info": {
   "codemirror_mode": {
    "name": "ipython",
    "version": 3
   },
   "file_extension": ".py",
   "mimetype": "text/x-python",
   "name": "python",
   "nbconvert_exporter": "python",
   "pygments_lexer": "ipython3",
   "version": "3.7.4"
  }
 },
 "nbformat": 4,
 "nbformat_minor": 2
}
