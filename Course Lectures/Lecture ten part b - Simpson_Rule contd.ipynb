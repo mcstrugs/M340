{
 "cells": [
  {
   "cell_type": "code",
   "execution_count": 1,
   "metadata": {},
   "outputs": [],
   "source": [
    "import numpy as np\n",
    "import matplotlib.pyplot as plt\n",
    "%matplotlib inline"
   ]
  },
  {
   "cell_type": "markdown",
   "metadata": {},
   "source": [
    "_Recall for Simpson's rule, number of interval N must be even. _\n",
    "\n",
    "- Example 1:\n",
    " \n",
    " Write a program to evaluate the following integral:\n",
    " $$\n",
    " \\int_1^2 \\frac{1}{x} ~ dx\n",
    " $$\n",
    " "
   ]
  },
  {
   "cell_type": "markdown",
   "metadata": {},
   "source": [
    "_Solution to Example 1:_\n",
    "\n",
    "## Simpson's rule:\n",
    "\n",
    "$$\n",
    "\\begin{align}\n",
    "\\int_a^b f(x) ~ dx = \\frac{\\Delta x}{3}\\left[ f(x_0) + 4f(x_1)+2f(x_2)+4f(x_3)+ \\cdots \\\\\n",
    "  \\hspace{5cm} + 2f(x_{n-2}) + 4f(x_{n-1}) + f(x_{n}) \\right] \n",
    "\\end{align}\n",
    "$$"
   ]
  },
  {
   "cell_type": "code",
   "execution_count": 2,
   "metadata": {},
   "outputs": [],
   "source": [
    "def simpson_method(a,b,N,f):\n",
    "    Nint = int(2*N) # This makes N even incase some one enters an odd value for N\n",
    "    xvals = np.linspace(a,b,Nint+1)\n",
    "    fvals = f(xvals)\n",
    "    dx = (b-a)/Nint\n",
    "    return dx/3.*(fvals[0] + fvals[Nint] + 2.*np.sum(fvals[2:Nint-1:2]) + 4.*np.sum(fvals[1:Nint:2])) "
   ]
  },
  {
   "cell_type": "code",
   "execution_count": 4,
   "metadata": {},
   "outputs": [],
   "source": [
    "def f(xvals):\n",
    "    return 1.0/xvals"
   ]
  },
  {
   "cell_type": "code",
   "execution_count": 5,
   "metadata": {},
   "outputs": [
    {
     "data": {
      "text/plain": [
       "0.6931502306889303"
      ]
     },
     "execution_count": 5,
     "metadata": {},
     "output_type": "execute_result"
    }
   ],
   "source": [
    "\n",
    "simpson_method(1,2,5,f)\n",
    "\n"
   ]
  },
  {
   "cell_type": "markdown",
   "metadata": {},
   "source": [
    " - Example 2:\n",
    "Write a program to evaluate the following integral:\n",
    " $$\n",
    " \\int_0^1 e^{x^2} ~ dx\n",
    " $$\n",
    " "
   ]
  },
  {
   "cell_type": "code",
   "execution_count": 6,
   "metadata": {},
   "outputs": [],
   "source": [
    "def g(xvals):\n",
    "    return np.exp(xvals**2)"
   ]
  },
  {
   "cell_type": "code",
   "execution_count": 7,
   "metadata": {},
   "outputs": [
    {
     "data": {
      "text/plain": [
       "1.462681400099797"
      ]
     },
     "execution_count": 7,
     "metadata": {},
     "output_type": "execute_result"
    }
   ],
   "source": [
    "simpson_method(0,1,5,g)"
   ]
  },
  {
   "cell_type": "code",
   "execution_count": null,
   "metadata": {},
   "outputs": [],
   "source": []
  }
 ],
 "metadata": {
  "kernelspec": {
   "display_name": "Python 3",
   "language": "python",
   "name": "python3"
  },
  "language_info": {
   "codemirror_mode": {
    "name": "ipython",
    "version": 3
   },
   "file_extension": ".py",
   "mimetype": "text/x-python",
   "name": "python",
   "nbconvert_exporter": "python",
   "pygments_lexer": "ipython3",
   "version": "3.7.4"
  }
 },
 "nbformat": 4,
 "nbformat_minor": 2
}
