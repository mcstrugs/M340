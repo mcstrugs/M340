{
 "cells": [
  {
   "cell_type": "markdown",
   "metadata": {},
   "source": [
    "# Nested for loop "
   ]
  },
  {
   "cell_type": "code",
   "execution_count": 1,
   "metadata": {},
   "outputs": [],
   "source": [
    "import numpy as np\n",
    "from fractions import Fraction\n",
    "from decimal import Decimal"
   ]
  },
  {
   "cell_type": "code",
   "execution_count": 2,
   "metadata": {},
   "outputs": [
    {
     "name": "stdout",
     "output_type": "stream",
     "text": [
      "i = 0\n",
      "j = 0\n",
      "\n",
      "i = 0\n",
      "j = 1\n",
      "\n",
      "i = 0\n",
      "j = 2\n",
      "\n",
      "i = 1\n",
      "j = 0\n",
      "\n",
      "i = 1\n",
      "j = 1\n",
      "\n",
      "i = 1\n",
      "j = 2\n",
      "\n",
      "i = 2\n",
      "j = 0\n",
      "\n",
      "i = 2\n",
      "j = 1\n",
      "\n",
      "i = 2\n",
      "j = 2\n",
      "\n"
     ]
    }
   ],
   "source": [
    "#Example 1 Combining two for loops\n",
    "for i in range(0,3):\n",
    "    for j in  range(0,3):\n",
    "        print('i = %d'  %i)\n",
    "        print('j = %d'  %j)\n",
    "        print()"
   ]
  },
  {
   "cell_type": "code",
   "execution_count": 3,
   "metadata": {},
   "outputs": [
    {
     "name": "stdout",
     "output_type": "stream",
     "text": [
      "[[0. 0. 0.]\n",
      " [0. 0. 0.]\n",
      " [0. 0. 0.]\n",
      " [0. 0. 0.]]\n",
      "\n",
      "[[0. 0. 0.]\n",
      " [1. 1. 1.]\n",
      " [2. 2. 2.]\n",
      " [3. 3. 3.]]\n"
     ]
    }
   ],
   "source": [
    "#Example 2 Using two for loops to create a matrix\n",
    "\n",
    "M = np.zeros((4,3))\n",
    "print(M)\n",
    "print()\n",
    "\n",
    "for i in range(0,4):\n",
    "    for j in  range(0,3):\n",
    "        M[i,j] = i\n",
    "print(M)"
   ]
  },
  {
   "cell_type": "code",
   "execution_count": 4,
   "metadata": {
    "scrolled": true
   },
   "outputs": [
    {
     "name": "stdout",
     "output_type": "stream",
     "text": [
      "[[0. 0. 0.]\n",
      " [0. 0. 0.]\n",
      " [0. 0. 0.]\n",
      " [0. 0. 0.]]\n",
      "\n",
      "[[ 1.  2.  3.]\n",
      " [ 2.  4.  6.]\n",
      " [ 3.  6.  9.]\n",
      " [ 4.  8. 12.]]\n"
     ]
    }
   ],
   "source": [
    "#Example 3 Using two for loops to create a matrix\n",
    "M = np.zeros((4,3))\n",
    "print(M)\n",
    "print()\n",
    "\n",
    "for i in range(0,4):\n",
    "    for j in  range(0,3):\n",
    "        M[i,j] = (i+1)*(j+1)\n",
    "print(M)"
   ]
  },
  {
   "cell_type": "code",
   "execution_count": 5,
   "metadata": {},
   "outputs": [
    {
     "name": "stdout",
     "output_type": "stream",
     "text": [
      "[[1.         0.5        0.33333333 0.25       0.2       ]\n",
      " [0.5        0.33333333 0.25       0.2        0.16666667]\n",
      " [0.33333333 0.25       0.2        0.16666667 0.14285714]\n",
      " [0.25       0.2        0.16666667 0.14285714 0.125     ]\n",
      " [0.2        0.16666667 0.14285714 0.125      0.11111111]]\n"
     ]
    }
   ],
   "source": [
    "#Example 4 Using two 'for' loops to create a Hilbert matrix\n",
    "\n",
    "s = 5  #s represents the size of the Hilbert matrix\n",
    "M = np.zeros((s,s))\n",
    "\n",
    "for i in range(1,s+1):\n",
    "    for j in  range(1,s+1):\n",
    "        M[i-1,j-1] = 1.0/(i+j-1)\n",
    "print(M)"
   ]
  },
  {
   "cell_type": "markdown",
   "metadata": {},
   "source": [
    "# Matrix multiplication"
   ]
  },
  {
   "cell_type": "code",
   "execution_count": 6,
   "metadata": {},
   "outputs": [
    {
     "data": {
      "text/plain": [
       "array([1, 2])"
      ]
     },
     "execution_count": 6,
     "metadata": {},
     "output_type": "execute_result"
    }
   ],
   "source": [
    "#Example 5 Matrix and vector multipication\n",
    "\n",
    "a = np.array( [[1, 0],  [0, 1]] )\n",
    "\n",
    "b = np.array([1, 2])\n",
    "\n",
    "np.matmul(a, b)\n",
    "\n"
   ]
  },
  {
   "cell_type": "code",
   "execution_count": 7,
   "metadata": {},
   "outputs": [
    {
     "data": {
      "text/plain": [
       "array([[4, 1],\n",
       "       [2, 2]])"
      ]
     },
     "execution_count": 7,
     "metadata": {},
     "output_type": "execute_result"
    }
   ],
   "source": [
    "#Example 6 Multipication of matrices \n",
    "a = np.array([[1, 0],\n",
    "              [0, 1]])\n",
    "b = np.array([[4, 1], \n",
    "              [2, 2]])\n",
    "np.matmul(a, b)"
   ]
  },
  {
   "cell_type": "code",
   "execution_count": 8,
   "metadata": {},
   "outputs": [
    {
     "data": {
      "text/plain": [
       "array([[ 5,  8],\n",
       "       [11, 18]])"
      ]
     },
     "execution_count": 8,
     "metadata": {},
     "output_type": "execute_result"
    }
   ],
   "source": [
    "#Example 7 Multipication of matrices \n",
    "a = np.array([[1, 2],\n",
    "              [3, 4]])\n",
    "b = np.array([[1, 2], \n",
    "              [2, 3]])\n",
    "np.matmul(a, b)"
   ]
  },
  {
   "cell_type": "code",
   "execution_count": 9,
   "metadata": {},
   "outputs": [
    {
     "data": {
      "text/plain": [
       "array([[ 7, 10],\n",
       "       [11, 16]])"
      ]
     },
     "execution_count": 9,
     "metadata": {},
     "output_type": "execute_result"
    }
   ],
   "source": [
    "np.matmul(b, a)"
   ]
  },
  {
   "cell_type": "code",
   "execution_count": 10,
   "metadata": {},
   "outputs": [],
   "source": [
    "from scipy.sparse import spdiags\n"
   ]
  },
  {
   "cell_type": "code",
   "execution_count": 11,
   "metadata": {},
   "outputs": [
    {
     "data": {
      "text/plain": [
       "array([[0. , 0.3, 0. , 0. , 0. , 0. , 0. ],\n",
       "       [0. , 0.1, 0.6, 0. , 0. , 0. , 0. ],\n",
       "       [0. , 0.2, 0.2, 0.9, 0. , 0. , 0. ],\n",
       "       [0. , 0. , 0.4, 0.3, 1.2, 0. , 0. ],\n",
       "       [0. , 0. , 0. , 0.6, 0.4, 0. , 0. ],\n",
       "       [0. , 0. , 0. , 0. , 0.8, 0. , 0. ],\n",
       "       [0. , 0. , 0. , 0. , 0. , 0. , 0. ]])"
      ]
     },
     "execution_count": 11,
     "metadata": {},
     "output_type": "execute_result"
    }
   ],
   "source": [
    "#Example 8 Generating a tridiagonal matrix\n",
    "diag = np.array([0, 0.1, 0.2, 0.3, 0.4])\n",
    "data = np.array([diag,diag*2.,diag*3.])\n",
    "#print(data)\n",
    "dvals = np.array([0,-1,1])\n",
    "Bmat = spdiags(data, dvals, 7, 7)\n",
    "#print(Bmat)   \n",
    "Bmat.toarray()"
   ]
  },
  {
   "cell_type": "code",
   "execution_count": null,
   "metadata": {},
   "outputs": [],
   "source": []
  }
 ],
 "metadata": {
  "kernelspec": {
   "display_name": "Python 3",
   "language": "python",
   "name": "python3"
  },
  "language_info": {
   "codemirror_mode": {
    "name": "ipython",
    "version": 3
   },
   "file_extension": ".py",
   "mimetype": "text/x-python",
   "name": "python",
   "nbconvert_exporter": "python",
   "pygments_lexer": "ipython3",
   "version": "3.7.4"
  }
 },
 "nbformat": 4,
 "nbformat_minor": 2
}
