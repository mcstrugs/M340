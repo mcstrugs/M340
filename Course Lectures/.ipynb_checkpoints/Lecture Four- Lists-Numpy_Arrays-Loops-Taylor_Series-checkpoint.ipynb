{
 "cells": [
  {
   "cell_type": "code",
   "execution_count": 1,
   "metadata": {},
   "outputs": [],
   "source": [
    "import numpy as np\n",
    "import matplotlib.pyplot as plt\n",
    "\n",
    "import scipy.special  as sfactorial\n",
    "%matplotlib inline"
   ]
  },
  {
   "cell_type": "code",
   "execution_count": 2,
   "metadata": {},
   "outputs": [
    {
     "name": "stdout",
     "output_type": "stream",
     "text": [
      "6.0\n"
     ]
    }
   ],
   "source": [
    "print (sfactorial.factorial(3))"
   ]
  },
  {
   "cell_type": "markdown",
   "metadata": {},
   "source": [
    "# Lists vs Numpy Arrays\n",
    "\n",
    "Okay, within Python, we have different data types.  For example "
   ]
  },
  {
   "cell_type": "code",
   "execution_count": 3,
   "metadata": {},
   "outputs": [],
   "source": [
    "x = 1\n",
    "y = 1.\n",
    "z = \"Hi\""
   ]
  },
  {
   "cell_type": "code",
   "execution_count": 4,
   "metadata": {},
   "outputs": [
    {
     "name": "stdout",
     "output_type": "stream",
     "text": [
      "<class 'int'>\n",
      "<class 'float'>\n",
      "<class 'str'>\n"
     ]
    }
   ],
   "source": [
    "print (type(x))\n",
    "print(type(y))\n",
    "print (type(z))"
   ]
  },
  {
   "cell_type": "code",
   "execution_count": 5,
   "metadata": {},
   "outputs": [
    {
     "name": "stdout",
     "output_type": "stream",
     "text": [
      "<class 'list'>\n",
      "<class 'list'>\n",
      "<class 'list'>\n",
      "\n",
      "<class 'int'>\n",
      "<class 'float'>\n",
      "<class 'str'>\n"
     ]
    }
   ],
   "source": [
    "xlist = [1,2,3]\n",
    "ylist = [1.,2.,3.]\n",
    "zlist = [\"Hi\",\"Howdy\",\"Hello\"]\n",
    "\n",
    "\n",
    "print (type(xlist))\n",
    "print (type(ylist))\n",
    "print (type(zlist))\n",
    "print()\n",
    "print (type(xlist[0]))\n",
    "print (type(ylist[0]))\n",
    "print (type(zlist[0]))"
   ]
  },
  {
   "cell_type": "markdown",
   "metadata": {},
   "source": [
    "But since this is a scientific computation class, we have another type.  It is the NumPy Array.  You have seen this before with the command `np.linspace`.  In more detail, when we write the assignment statement\n",
    "`\n",
    "xvals = np.linspace(a,b,n)\n",
    "`\n",
    "\n",
    "we create an array of points `xvals[j]` such that \n",
    "\n",
    "`\n",
    "xvals[j] = a + (b-a)*j/(n-1), j=0,...,n-1.\n",
    "`\n",
    "\n",
    "Now, this part is important.  Note that "
   ]
  },
  {
   "cell_type": "code",
   "execution_count": 6,
   "metadata": {},
   "outputs": [
    {
     "name": "stdout",
     "output_type": "stream",
     "text": [
      "[-2.  -1.6 -1.2 -0.8 -0.4  0.   0.4  0.8  1.2  1.6  2. ]\n",
      "<class 'numpy.ndarray'>\n"
     ]
    }
   ],
   "source": [
    "xvals = np.linspace(-2.,2.,int(1e1)+1)\n",
    "print(xvals)\n",
    "\n",
    "print (type(xvals))"
   ]
  },
  {
   "cell_type": "markdown",
   "metadata": {},
   "source": [
    "So a NumPy array really is not just a Python list.  And the difference is huge.  In NumPy, I can do arithmetic on arrays.  I cannot do arithmetic on Python lists.  Let me show you what I mean."
   ]
  },
  {
   "cell_type": "code",
   "execution_count": 7,
   "metadata": {},
   "outputs": [
    {
     "name": "stdout",
     "output_type": "stream",
     "text": [
      "<class 'numpy.ndarray'>\n",
      "<class 'list'>\n",
      "<class 'numpy.ndarray'>\n"
     ]
    }
   ],
   "source": [
    "print (type(xvals-xvals))\n",
    "\n",
    "\n",
    "print (type(list(xvals)))\n",
    "\n",
    "print (type(np.array(list(xvals))))"
   ]
  },
  {
   "cell_type": "code",
   "execution_count": 8,
   "metadata": {},
   "outputs": [
    {
     "name": "stdout",
     "output_type": "stream",
     "text": [
      "[ 1.  2.  3.  4.  5.  6.  7.  8.  9. 10.]\n",
      "[1.0, 2.0, 3.0, 4.0, 5.0, 6.0, 7.0, 8.0, 9.0, 10.0]\n",
      "<class 'list'>\n"
     ]
    }
   ],
   "source": [
    "\n",
    "x = np.linspace(1,10,10)\n",
    "print(x)\n",
    "type(x)\n",
    "y = list(x)\n",
    "print(y)\n",
    "print(type(y))"
   ]
  },
  {
   "cell_type": "markdown",
   "metadata": {},
   "source": [
    "#  Loops and Iteration \n",
    "\n",
    "## While Loops and Log Plots\n",
    "\n",
    "Refer to Chapters 12 and 19 of the textbook for help and further examples. \n",
    "\n",
    "So, now that we have put some math under our proverbial belts, lets think about how to use Python to implement much of what we have been studying.  To do this we need to make use of what are called while and for loops.  We have already seen these, but let's now think about them in more detail.  Roughly speaking, the difference is that while loops go until something is no longer true.  For example "
   ]
  },
  {
   "cell_type": "code",
   "execution_count": 9,
   "metadata": {},
   "outputs": [
    {
     "name": "stdout",
     "output_type": "stream",
     "text": [
      "hello world\n",
      "hello world\n",
      "hello world\n",
      "hello world\n",
      "hello world\n"
     ]
    }
   ],
   "source": [
    "print(\"hello world\")\n",
    "print(\"hello world\")\n",
    "print(\"hello world\")\n",
    "print(\"hello world\")\n",
    "print(\"hello world\")"
   ]
  },
  {
   "cell_type": "code",
   "execution_count": 10,
   "metadata": {},
   "outputs": [
    {
     "name": "stdout",
     "output_type": "stream",
     "text": [
      "Hello World\n",
      "Hello World\n",
      "Hello World\n",
      "Hello World\n",
      "Hello World\n"
     ]
    }
   ],
   "source": [
    "count = 1\n",
    "while count<=5: \n",
    "    print (\"Hello World\")\n",
    "    count = count + 1\n"
   ]
  },
  {
   "cell_type": "markdown",
   "metadata": {},
   "source": [
    "Statements like \n",
    "\n",
    "`count = count + 1`\n",
    "\n",
    "are usually shortened to \n",
    "\n",
    "`count+=1`\n",
    "\n",
    "so "
   ]
  },
  {
   "cell_type": "code",
   "execution_count": 11,
   "metadata": {},
   "outputs": [
    {
     "name": "stdout",
     "output_type": "stream",
     "text": [
      "Hello World\n",
      "Hello World\n",
      "Hello World\n",
      "Hello World\n",
      "Hello World\n"
     ]
    }
   ],
   "source": [
    "count = 1\n",
    "while count<=5: \n",
    "    print(\"Hello World\")\n",
    "    count+=1"
   ]
  },
  {
   "cell_type": "markdown",
   "metadata": {},
   "source": [
    "Example: Write a `while` loop to sum the integers begining from 1 to 7. "
   ]
  },
  {
   "cell_type": "code",
   "execution_count": 12,
   "metadata": {},
   "outputs": [
    {
     "name": "stdout",
     "output_type": "stream",
     "text": [
      "when j=1, mysum = 1\n",
      "when j=2, mysum = 3\n",
      "when j=3, mysum = 6\n",
      "when j=4, mysum = 10\n",
      "when j=5, mysum = 15\n",
      "when j=6, mysum = 21\n",
      "when j=7, mysum = 28\n",
      "\n",
      "The sum of integers begining from 1 to 7 is 28\n",
      "\n"
     ]
    }
   ],
   "source": [
    "#Enter your code here\n",
    "j = 0\n",
    "mysum=0\n",
    "while j < 7: # do you know why we use less than 7 here, look at the output to clarify.\n",
    "    j+=1\n",
    "    mysum+=j\n",
    "    print ('when j=%d, mysum = %d' %(j,mysum))\n",
    "    \n",
    "print()    \n",
    "print  ( 'The sum of integers begining from 1 to 7 is %d' % mysum)\n",
    "print()"
   ]
  },
  {
   "cell_type": "markdown",
   "metadata": {},
   "source": [
    "So, let's say we wanted to compute the Taylor series around $x_{0}=0$ of $e^{x}$, which is given by \n",
    "\n",
    "$$\n",
    "e^{x} = \\sum_{j=0}^{\\infty} \\frac{x^{j}}{j!}.\n",
    "$$\n",
    "\n",
    "The idea here is to keep adding terms until a term, say $x^{j}/j!$ is, in magnitude, smaller than some specified tolerance, say `tol`.  In otherwords\n",
    "\n",
    "`while np.abs(aj) >= tol: keep doing stuff`\n",
    "\n",
    "Here the variable `aj` stands for $x^{j}/j!$.  The variable `tol` is the value we use to determine whether a given term is too small in order to keep iterating. \n",
    "\n",
    "To keep going, we note that if we write \n",
    "\n",
    "$$\n",
    "e^{x} = \\sum_{j=0}^{\\infty}a_{j}(x),\n",
    "$$\n",
    "\n",
    "then we see that \n",
    "\n",
    "$$\n",
    "\\frac{a_{j}(x)}{a_{j-1}(x)} = \\frac{x}{j},\n",
    "$$\n",
    "\n",
    "or \n",
    "\n",
    "$$\n",
    "a_{j}(x) = \\left\\{\n",
    "\\begin{array}{rl}\n",
    "\\frac{x}{j} a_{j-1}(x) & j\\geq 1\\\\\n",
    "1 & j=0\n",
    "\\end{array}\n",
    "\\right.\n",
    "$$\n",
    "\n",
    "So, if put this all together, to make this work in Python, we write "
   ]
  },
  {
   "cell_type": "code",
   "execution_count": 13,
   "metadata": {},
   "outputs": [],
   "source": [
    "def exp_func(x,tol):\n",
    "    tot = 1. # for the total you wish to return \n",
    "    aj = 1. # the terms you need to update\n",
    "    j = 1 # your counter\n",
    "    while np.abs(aj)>=tol:\n",
    "        aj *= x/j\n",
    "        tot += aj\n",
    "        j+=1 \n",
    "        # what would you put here in order to update your term, total, and counter?\n",
    "    return tot # what would you put here?"
   ]
  },
  {
   "cell_type": "code",
   "execution_count": 14,
   "metadata": {},
   "outputs": [
    {
     "name": "stdout",
     "output_type": "stream",
     "text": [
      "2.718281828459043\n",
      "2.718281828459045\n"
     ]
    }
   ],
   "source": [
    "\n",
    "print(exp_func(1,1e-13))\n",
    "\n",
    "print(np.exp(1))"
   ]
  },
  {
   "cell_type": "markdown",
   "metadata": {},
   "source": [
    "But how accurate is it?  Well let's compare our function to $e^{x}$ over $-2\\leq x \\leq 2$ for the tolerance values \n",
    "\n",
    "`\n",
    "tol = 1e-5, 1e-6, 1e-7\n",
    "`"
   ]
  },
  {
   "cell_type": "code",
   "execution_count": 15,
   "metadata": {},
   "outputs": [],
   "source": [
    "xvals = np.linspace(-2.,2.,int(1e3))#specifying the x values\n",
    "#print(xvals)\n",
    "#print()\n",
    "#print()\n",
    "yvals1 = [exp_func(xval,1e-5) for xval in xvals]\n",
    "#print(yvals1)\n",
    "\n",
    "\n",
    "#print()\n",
    "#yvalst = np.exp(xvals)#computing e^x using numpy\n",
    "#print(yvalst)\n",
    "#plt.plot(xvals,yvalst)"
   ]
  },
  {
   "cell_type": "code",
   "execution_count": 16,
   "metadata": {},
   "outputs": [
    {
     "data": {
      "text/plain": [
       "Text(0, 0.5, '$Errors$')"
      ]
     },
     "execution_count": 16,
     "metadata": {},
     "output_type": "execute_result"
    },
    {
     "data": {
      "image/png": "[encoded data removed]",
      "text/plain": [
       "<Figure size 432x288 with 1 Axes>"
      ]
     },
     "metadata": {
      "needs_background": "light"
     },
     "output_type": "display_data"
    }
   ],
   "source": [
    "xvals = np.linspace(-2.,2.,int(1e3))#specifying the x values\n",
    "yvalst = np.exp(xvals)#computing e^x using numpy\n",
    "yvals1 = [exp_func(xval,1e-5) for xval in xvals] # using the function exp_func() to compute e^x with tol 1e-5\n",
    "yvals2 = [exp_func(xval,1e-6) for xval in xvals]# using the function exp_func() to compute e^x with tol 1e-6\n",
    "yvals3 = [exp_func(xval,1e-7) for xval in xvals]# using the function exp_func() to compute e^x with tol 1e-7\n",
    "\n",
    "#plt.plot(xvals,yvalst,color='k')\n",
    "plt.plot(xvals,np.abs(yvalst-yvals1),color='r',ls='--')\n",
    "plt.plot(xvals,np.abs(yvalst-yvals2),color='b',ls='--')\n",
    "plt.plot(xvals,np.abs(yvalst-yvals3),color='g',ls='--')\n",
    "\n",
    "plt.xlabel('$x$')\n",
    "plt.ylabel('$Errors$')"
   ]
  },
  {
   "cell_type": "markdown",
   "metadata": {},
   "source": [
    "Okay, that kind of helps us see a trend in behavior, but we can do better.  If you remember, \n",
    "\n",
    "$$\n",
    "\\log_{10}10^{-m} = -m\n",
    "$$\n",
    "\n",
    "then, if we are trying to plot errors on the order of $10^{-5},10^{-6},10^{-7}$, if we plotted \n",
    "\n",
    "`\n",
    "e1 = np.log10(np.abs(yvalst - yvals1))\n",
    "`\n",
    "\n",
    "then we get "
   ]
  },
  {
   "cell_type": "code",
   "execution_count": 17,
   "metadata": {},
   "outputs": [
    {
     "data": {
      "text/plain": [
       "Text(0, 0.5, '$log_{10}Errors$')"
      ]
     },
     "execution_count": 17,
     "metadata": {},
     "output_type": "execute_result"
    },
    {
     "data": {
      "image/png": "[encoded data removed]",
      "text/plain": [
       "<Figure size 432x288 with 1 Axes>"
      ]
     },
     "metadata": {
      "needs_background": "light"
     },
     "output_type": "display_data"
    }
   ],
   "source": [
    "e1 = np.log10(np.abs(yvalst - yvals1))\n",
    "e2 = np.log10(np.abs(yvalst - yvals2))\n",
    "e3 = np.log10(np.abs(yvalst - yvals3))\n",
    "#Redo your error plots as semi-log plots.\n",
    "# add code here \n",
    "plt.plot(xvals,e1)\n",
    "plt.plot(xvals,e2)\n",
    "plt.plot(xvals,e3)\n",
    "\n",
    "plt.xlabel('$x$')\n",
    "plt.ylabel('$log_{10}Errors$')\n",
    "\n",
    "\n"
   ]
  },
  {
   "cell_type": "markdown",
   "metadata": {},
   "source": [
    "## For Loops\n",
    "\n",
    "In contrast, a `for` loop starts at a point, and goes until another one.  So for example, if we create a list of words"
   ]
  },
  {
   "cell_type": "code",
   "execution_count": 18,
   "metadata": {},
   "outputs": [],
   "source": [
    "hal = [\"Hello\",\"Dave,\",\"would\",\"you\",\"like\",\"to\",\"play\",\"a\",\"game\",\"of\",\"chess?\"]"
   ]
  },
  {
   "cell_type": "markdown",
   "metadata": {},
   "source": [
    "How would we write a code to print out each word.  Well, we could do it index by index.  What I mean by this is we could write "
   ]
  },
  {
   "cell_type": "code",
   "execution_count": 19,
   "metadata": {},
   "outputs": [
    {
     "name": "stdout",
     "output_type": "stream",
     "text": [
      "Hello\n",
      "Dave,\n",
      "chess?\n"
     ]
    }
   ],
   "source": [
    "print (hal[0])\n",
    "print (hal[1])\n",
    "print (hal[len(hal)-1])"
   ]
  },
  {
   "cell_type": "markdown",
   "metadata": {},
   "source": [
    "There are some important things to note here.  One, when we iterate over a list, we always start counting from `0`, thus why the _ first _ entry of the list `hal` is given by \n",
    "\n",
    "`hal[0]`\n",
    "\n",
    "Now, this means that when we want to get to the last entry of the list, though the length of the list `hal` is given by \n",
    "\n",
    "`len(hal)`\n",
    "\n",
    "the last entry is at an index that is one less than the total length.   \n",
    "\n",
    "`hal[len(hal)-1]`\n",
    "\n",
    "Now, if we want to print out the entries of `hal` we can use a for loop such as "
   ]
  },
  {
   "cell_type": "code",
   "execution_count": 20,
   "metadata": {},
   "outputs": [
    {
     "name": "stdout",
     "output_type": "stream",
     "text": [
      "Hello\n",
      "Dave,\n",
      "would\n",
      "you\n",
      "like\n",
      "to\n",
      "play\n",
      "a\n",
      "game\n",
      "of\n",
      "chess?\n"
     ]
    }
   ],
   "source": [
    "for jj in range(0,len(hal)):\n",
    "    print (hal[jj])"
   ]
  },
  {
   "cell_type": "markdown",
   "metadata": {},
   "source": [
    "Ask yourself, does the index `jj` ever equal `len(hal)`?  Run the command "
   ]
  },
  {
   "cell_type": "code",
   "execution_count": 21,
   "metadata": {},
   "outputs": [
    {
     "name": "stdout",
     "output_type": "stream",
     "text": [
      "range(0, 11)\n"
     ]
    }
   ],
   "source": [
    "print (range(0,len(hal)))"
   ]
  },
  {
   "cell_type": "markdown",
   "metadata": {},
   "source": [
    "and from this determine what `len(hal)` is."
   ]
  },
  {
   "cell_type": "markdown",
   "metadata": {},
   "source": [
    "In Python, we can alternatively iterate over values as opposed to indices of lists.  What I mean by this is we can write "
   ]
  },
  {
   "cell_type": "code",
   "execution_count": 22,
   "metadata": {},
   "outputs": [
    {
     "name": "stdout",
     "output_type": "stream",
     "text": [
      "Hello\n",
      "Dave,\n",
      "would\n",
      "you\n",
      "like\n",
      "to\n",
      "play\n",
      "a\n",
      "game\n",
      "of\n",
      "chess?\n"
     ]
    }
   ],
   "source": [
    "for word in hal: # Note, the variable 'word' is defined within the statement of the for loop. \n",
    "    print (word)"
   ]
  },
  {
   "cell_type": "markdown",
   "metadata": {},
   "source": [
    "In the above, you may use a different variable name (instead of word); as shown below"
   ]
  },
  {
   "cell_type": "code",
   "execution_count": 23,
   "metadata": {},
   "outputs": [
    {
     "name": "stdout",
     "output_type": "stream",
     "text": [
      "Hello\n",
      "Dave,\n",
      "would\n",
      "you\n",
      "like\n",
      "to\n",
      "play\n",
      "a\n",
      "game\n",
      "of\n",
      "chess?\n"
     ]
    }
   ],
   "source": [
    "for ii in hal: # Note, the variable 'word' is defined within the statement of the for loop. \n",
    "    print (ii)"
   ]
  },
  {
   "cell_type": "markdown",
   "metadata": {},
   "source": [
    "Example: Write a **For loop** to compute the square of numbers beginning from 1 to 10 "
   ]
  },
  {
   "cell_type": "code",
   "execution_count": 24,
   "metadata": {},
   "outputs": [
    {
     "name": "stdout",
     "output_type": "stream",
     "text": [
      "[ 1.  2.  3.  4.  5.  6.  7.  8.  9. 10.]\n",
      "[1.0, 4.0, 9.0, 16.0, 25.0, 36.0, 49.0, 64.0, 81.0, 100.0]\n"
     ]
    }
   ],
   "source": [
    "# write your code here \n",
    "\n",
    "xvals = np.linspace(1,10,int(10))\n",
    "xsqrd = [ii**2 for ii in xvals]\n",
    "print (xvals)\n",
    "print (xsqrd)"
   ]
  },
  {
   "cell_type": "code",
   "execution_count": 25,
   "metadata": {},
   "outputs": [
    {
     "name": "stdout",
     "output_type": "stream",
     "text": [
      "1.0\n",
      "1.0\n",
      "\n",
      "2.0\n",
      "4.0\n",
      "\n",
      "3.0\n",
      "9.0\n",
      "\n",
      "4.0\n",
      "16.0\n",
      "\n",
      "5.0\n",
      "25.0\n",
      "\n",
      "6.0\n",
      "36.0\n",
      "\n",
      "7.0\n",
      "49.0\n",
      "\n",
      "8.0\n",
      "64.0\n",
      "\n",
      "9.0\n",
      "81.0\n",
      "\n",
      "10.0\n",
      "100.0\n",
      "\n"
     ]
    }
   ],
   "source": [
    "# An alternative code to compute the square of numbers beginning from 1 to 10\n",
    "xvals = np.linspace(1,10,int(10))\n",
    "yvals = np.ones(10)\n",
    "for kk in range(0,len(xvals)):\n",
    "    yvals[kk] = xvals[kk]**2\n",
    "    print (xvals[kk])\n",
    "    print (yvals[kk])\n",
    "    print()\n",
    "    "
   ]
  },
  {
   "cell_type": "markdown",
   "metadata": {},
   "source": [
    "Another example: Write a **For loop** to compute the **sum** of squares of numbers beginning from 1 to 10. (i.e compute $1^2 +2^2 +3^2 +\\cdots +10^2$ )"
   ]
  },
  {
   "cell_type": "code",
   "execution_count": 26,
   "metadata": {},
   "outputs": [
    {
     "name": "stdout",
     "output_type": "stream",
     "text": [
      "1.0\n",
      "2.0\n",
      "3.0\n",
      "4.0\n",
      "5.0\n",
      "6.0\n",
      "7.0\n",
      "8.0\n",
      "9.0\n",
      "10.0\n",
      "The sum of the squares of the first 10 integers is 385 \n"
     ]
    }
   ],
   "source": [
    "# write your code here\n",
    "xvals = np.linspace(1,10,int(10))\n",
    "sum = 0\n",
    "for kk in range(0,len(xvals)):\n",
    "    sum += xvals[kk]**2\n",
    "    print (xvals[kk])\n",
    "print ('The sum of the squares of the first 10 integers is %d ' % sum)"
   ]
  },
  {
   "cell_type": "markdown",
   "metadata": {},
   "source": [
    "This iteration by value is very convenient, and makes some things in Python really, really easy.  For example, what if we wanted to plot the step function $H(x)$ where \n",
    "\n",
    "$$\n",
    "H(x) = \\left\\{\n",
    "\\begin{array}{rl}\n",
    "1 & x\\geq0 \\\\\n",
    "-1 & x<0\n",
    "\\end{array}\n",
    "\\right.\n",
    "$$\n",
    "\n"
   ]
  },
  {
   "cell_type": "code",
   "execution_count": 27,
   "metadata": {},
   "outputs": [],
   "source": [
    "#Enter your code here to plot H(x)"
   ]
  },
  {
   "cell_type": "markdown",
   "metadata": {},
   "source": [
    "Below we plot the following function in python:\n",
    "$$\n",
    "G(x) = \\left\\{\n",
    "\\begin{array}{rl}\n",
    "5.4 & x\\geq5 \\\\\n",
    "3.13 & 2 \\le x < 5 \\\\\n",
    "-4.2 & 1 \\le x < 2 \\\\\n",
    "3.13 & -3 \\le x < 1 \\\\\n",
    "-10 & x < -3 \n",
    "\\end{array}\n",
    "\\right.\n",
    "$$"
   ]
  },
  {
   "cell_type": "code",
   "execution_count": 28,
   "metadata": {},
   "outputs": [],
   "source": [
    "def step_func(x):\n",
    "    if x>=5.:\n",
    "        return 5.4\n",
    "    elif x>=2.:\n",
    "        return 3.13\n",
    "    elif x>=1.:\n",
    "        return -4.2\n",
    "    elif x>=-3.:\n",
    "        return 3.13\n",
    "    else:\n",
    "        return -10."
   ]
  },
  {
   "cell_type": "code",
   "execution_count": 29,
   "metadata": {},
   "outputs": [
    {
     "data": {
      "text/plain": [
       "[<matplotlib.lines.Line2D at 0x81e713810>]"
      ]
     },
     "execution_count": 29,
     "metadata": {},
     "output_type": "execute_result"
    },
    {
     "data": {
      "image/png": "[encoded data removed]",
      "text/plain": [
       "<Figure size 432x288 with 1 Axes>"
      ]
     },
     "metadata": {
      "needs_background": "light"
     },
     "output_type": "display_data"
    }
   ],
   "source": [
    "xvals = np.linspace(-7.,8.,int(1e4))\n",
    "yvals = [step_func(ii) for ii in xvals] # Note use of list comprehension to generate range of function.\n",
    "\n",
    "plt.plot(xvals,yvals)"
   ]
  },
  {
   "cell_type": "markdown",
   "metadata": {},
   "source": [
    "## Vectorization in NumPy\n",
    "\n",
    "We are now going to explore a key feature of NumPy which is _vectorization_.  This is a feature whereby instead of explicitly calling a loop, NumPy just knows to iterate over every entry of a NumPy array in some reasonable manner.  "
   ]
  },
  {
   "cell_type": "markdown",
   "metadata": {},
   "source": [
    "Below are two differnt ways to compute the squares of numbers from 1 to 10."
   ]
  },
  {
   "cell_type": "code",
   "execution_count": 30,
   "metadata": {},
   "outputs": [
    {
     "name": "stdout",
     "output_type": "stream",
     "text": [
      "[ 1.  2.  3.  4.  5.  6.  7.  8.  9. 10.]\n",
      "[1.0, 4.0, 9.0, 16.0, 25.0, 36.0, 49.0, 64.0, 81.0, 100.0]\n"
     ]
    }
   ],
   "source": [
    "#non vectorized \n",
    "xvals = np.linspace(1.,10,int(10))\n",
    "yvals = [(ii)**2 for ii in xvals] #list \n",
    "print(xvals)\n",
    "print(yvals)"
   ]
  },
  {
   "cell_type": "code",
   "execution_count": 31,
   "metadata": {},
   "outputs": [
    {
     "name": "stdout",
     "output_type": "stream",
     "text": [
      "[ 1.  2.  3.  4.  5.  6.  7.  8.  9. 10.]\n",
      "[  1.   4.   9.  16.  25.  36.  49.  64.  81. 100.]\n"
     ]
    }
   ],
   "source": [
    "#vectorized\n",
    "xvals = np.linspace(1.,10,int(10))\n",
    "yvals = xvals**2\n",
    "print(xvals)\n",
    "print(yvals)"
   ]
  },
  {
   "cell_type": "code",
   "execution_count": 32,
   "metadata": {},
   "outputs": [
    {
     "name": "stdout",
     "output_type": "stream",
     "text": [
      "[2. 3. 8. 9.]\n"
     ]
    }
   ],
   "source": [
    "# An illustration of vectorization in NumPy\n",
    "kvals = [4, 9, 64, 81]\n",
    "print (np.sqrt(kvals)) #it prints the square root \n",
    "                     #of all the elements in kvals"
   ]
  },
  {
   "cell_type": "markdown",
   "metadata": {},
   "source": [
    "To get more feel for this, let's use the approximation for $\\pi$. The following code "
   ]
  },
  {
   "cell_type": "code",
   "execution_count": 33,
   "metadata": {},
   "outputs": [],
   "source": [
    "def pi_approx(n):\n",
    "    tot = 0.\n",
    "    nsq = n**2.\n",
    "    for kk in range(0,int(n)+1):\n",
    "        tot += np.sqrt(nsq-kk**2.)\n",
    "    return 4.*tot/nsq"
   ]
  },
  {
   "cell_type": "markdown",
   "metadata": {},
   "source": [
    "computes $\\pi$ using the formula \n",
    "\n",
    "$$\n",
    "\\pi = \\lim_{n\\rightarrow\\infty} \\frac{4}{n^{2}}\\sum_{k=0}^{n}\\sqrt{n^{2}-k^{2}}\n",
    "$$\n",
    "\n",
    "And we know that works, but again note the explicit `for` loop.  To get far better performance, we make use of NumPy arrays to generate each What we see here is that if we could first generate all the entries in the sum and then sum along that array of entries, we could probably spare ourselves some grief.  This is exactly how vectorization in NumPy works.  The following code computes this:"
   ]
  },
  {
   "cell_type": "code",
   "execution_count": 34,
   "metadata": {},
   "outputs": [],
   "source": [
    "def pi_approx_vec(n):\n",
    "    kvals = np.linspace(0,n,int(n)+1)\n",
    "    nsq = n**2.\n",
    "    tot = np.sum(np.sqrt(nsq*np.ones(int(n)+1) - kvals**2.))\n",
    "    return 4.*tot/nsq "
   ]
  },
  {
   "cell_type": "markdown",
   "metadata": {},
   "source": [
    "So note the appearance of the NumPy array `kvals` and the use of the `np.sum()` function, which adds up entries along an array.  Thus, we have written a version of the code that never calls a `for` explicitly.  What do we then get for our efforts? "
   ]
  },
  {
   "cell_type": "code",
   "execution_count": 35,
   "metadata": {},
   "outputs": [],
   "source": [
    "from copy import copy\n",
    "from time import time"
   ]
  },
  {
   "cell_type": "code",
   "execution_count": 36,
   "metadata": {},
   "outputs": [
    {
     "name": "stdout",
     "output_type": "stream",
     "text": [
      "8.932746887207031\n",
      "0.1767728328704834\n"
     ]
    }
   ],
   "source": [
    "start = time()\n",
    "pi_approx(1e7)\n",
    "end=time()\n",
    "print (end - start)\n",
    "\n",
    "start = time()\n",
    "pi_approx_vec(1e7)\n",
    "end=time()\n",
    "print (end - start)"
   ]
  },
  {
   "cell_type": "code",
   "execution_count": null,
   "metadata": {},
   "outputs": [],
   "source": []
  },
  {
   "cell_type": "markdown",
   "metadata": {},
   "source": [
    "So, now let's think about how we can vectorize our function `exp_func` so that we can just pass one NumPy array `x`.  To make this work, we need to initialize our loops with  \n",
    "\n",
    "`\n",
    "tot = np.ones(x.size)\n",
    "aj = np.ones(x.size)\n",
    "`\n",
    "\n",
    "which builds two NumPy arrays that are as long as `x`, and have entries equal to one.  Then, when we call \n",
    "\n",
    "`\n",
    "aj *= x/j\n",
    "`\n",
    "\n",
    "which is equivalent to \n",
    "\n",
    "`\n",
    "aj = aj*x/j\n",
    "`\n",
    "\n",
    "what is happening is that we multiply each entry of `aj` by each entry of the array `x/j`.  In other words, the above statement is equivalent to\n",
    "\n",
    "`\n",
    "for ll in xrange(0:x.size):\n",
    "    aj[ll] *= x[ll]/j\n",
    "`\n",
    "\n",
    "but with vectorization, we do not explicitly call the `for` loop since NumPy understands to use it implicitly.  But then, how do we adjust our logic in our while loop so that we can work over an entire array of new terms `aj`?  This is where we need to make use of \n",
    "\n",
    "`while np.max(np.abs(aj))>=tol:`\n",
    "\n",
    "but why?"
   ]
  },
  {
   "cell_type": "code",
   "execution_count": 37,
   "metadata": {},
   "outputs": [],
   "source": [
    "def exp_func_vec(x,tol):\n",
    "    tot = np.ones(x.size) # for the total you wish to return \n",
    "    aj = np.ones(x.size) # the terms you need to update\n",
    "    j = 1 # your counter\n",
    "    while np.max(np.abs(aj))>=tol:\n",
    "        aj *= x/j\n",
    "        tot += aj\n",
    "        j += 1\n",
    "        # what would you put here in order to update your term, total, and counter?\n",
    "    return tot # what would you put here?"
   ]
  },
  {
   "cell_type": "code",
   "execution_count": 38,
   "metadata": {},
   "outputs": [
    {
     "name": "stdout",
     "output_type": "stream",
     "text": [
      "Time to run vectorized code was: 0.001350879669189\n",
      "Time to run non-vectorized code was: 0.027100801467896\n"
     ]
    },
    {
     "data": {
      "text/plain": [
       "Text(0, 0.5, '$e^{x}$')"
      ]
     },
     "execution_count": 38,
     "metadata": {},
     "output_type": "execute_result"
    },
    {
     "data": {
      "image/png": "[encoded data removed]",
      "text/plain": [
       "<Figure size 432x288 with 1 Axes>"
      ]
     },
     "metadata": {
      "needs_background": "light"
     },
     "output_type": "display_data"
    }
   ],
   "source": [
    "# You insert code which allows you to compare the performance of exp_func to exp_func_vec.  \n",
    "# As a means of generating a test, use the array of x-values \n",
    "\n",
    "xvals = np.linspace(-2.,2.,int(1e3))\n",
    "\n",
    "start = time()\n",
    "evalsv = exp_func_vec(xvals,1e-9)\n",
    "end = time()\n",
    "tvec = end - start\n",
    "print (\"Time to run vectorized code was: %1.15f\" %tvec)\n",
    "\n",
    "# insert code here for \"non-vectorized code\"\n",
    "start = time()\n",
    "evalsp = [exp_func(xval,1e-9) for xval in xvals]\n",
    "end = time()\n",
    "tvec = end - start\n",
    "print (\"Time to run non-vectorized code was: %1.15f\" %tvec)\n",
    "\n",
    "plt.plot(xvals,evalsv,color='k')\n",
    "plt.xlabel('$x$')\n",
    "plt.ylabel('$e^{x}$')"
   ]
  },
  {
   "cell_type": "markdown",
   "metadata": {},
   "source": [
    "## Advantage of using a copy function is demonstrated below. \n",
    "Assignment statements in Python do not copy objects, they create bindings between a target and an object. In the example below, _x_ is assigned to _tot_, changing the value of _tot_ by multiplying by 5, changes the original value of *x*. How do we change _tot_ but keep _x_ unchanged?"
   ]
  },
  {
   "cell_type": "code",
   "execution_count": 39,
   "metadata": {},
   "outputs": [],
   "source": [
    "import numpy as np"
   ]
  },
  {
   "cell_type": "code",
   "execution_count": 40,
   "metadata": {},
   "outputs": [
    {
     "name": "stdout",
     "output_type": "stream",
     "text": [
      "[0. 1. 2. 3. 4.]\n"
     ]
    }
   ],
   "source": [
    "x = np.linspace(0.,4., int(5))\n",
    "print(x)"
   ]
  },
  {
   "cell_type": "code",
   "execution_count": 41,
   "metadata": {},
   "outputs": [
    {
     "name": "stdout",
     "output_type": "stream",
     "text": [
      "[ 0.  5. 10. 15. 20.]\n",
      "[ 0.  5. 10. 15. 20.]\n"
     ]
    }
   ],
   "source": [
    "x = np.linspace(0.,4., int(5))\n",
    "tot = x\n",
    "\n",
    "tot*=5.\n",
    "\n",
    "print (x)\n",
    "print (tot)"
   ]
  },
  {
   "cell_type": "markdown",
   "metadata": {},
   "source": [
    "A copy is sometimes needed so one can change one copy without changing the other. As shown below"
   ]
  },
  {
   "cell_type": "code",
   "execution_count": 42,
   "metadata": {},
   "outputs": [],
   "source": [
    "from copy import copy"
   ]
  },
  {
   "cell_type": "code",
   "execution_count": 43,
   "metadata": {},
   "outputs": [
    {
     "name": "stdout",
     "output_type": "stream",
     "text": [
      "[0. 1. 2. 3. 4.]\n",
      "[ 0.  5. 10. 15. 20.]\n"
     ]
    }
   ],
   "source": [
    "x2 = np.linspace(0.,4., int(5))\n",
    "tot2 = copy(x2)\n",
    "\n",
    "tot2*=5.\n",
    "\n",
    "print (x2)\n",
    "print (tot2)"
   ]
  },
  {
   "cell_type": "markdown",
   "metadata": {},
   "source": [
    "So let's do something properly difficult to see how much we've learned.  If you dig in the depts of math, you will come up with a class of functions known as Bessel functions, denoted by $J_{n}(x)$.  These are usually _defined_ via a series where \n",
    "\n",
    "$$\n",
    "J_{n}(x) = \\sum_{j=0}^{\\infty} \\frac{(-1)^{j}}{j!(n+j)!}\\left(\\frac{x}{2}\\right)^{n+2j}\n",
    "$$\n",
    "\n",
    "Given this definition, generate both non and vectorized, recursive code which allows you to compute $J_{n}(x)$ for any positive integer $n$ and any value of $x$.  Examine plots of your function to infer the behavior of the Bessel functions.  "
   ]
  },
  {
   "cell_type": "markdown",
   "metadata": {},
   "source": [
    "Input for the Python function: x, n and tol\n",
    "Output: compute and plot $J_{n}(x)$ for any positive integer $n$ and any value of $x$."
   ]
  },
  {
   "cell_type": "code",
   "execution_count": 44,
   "metadata": {},
   "outputs": [],
   "source": [
    "import scipy.special as sfactorial\n",
    "import numpy as np\n",
    "import matplotlib.pyplot as plt\n",
    "%matplotlib inline\n",
    "from copy import copy"
   ]
  },
  {
   "cell_type": "code",
   "execution_count": 45,
   "metadata": {},
   "outputs": [],
   "source": [
    "#non-vectorized code for Bessel function\n",
    "# add code here\n",
    "def Bessel_func(x,n,tol):\n",
    "    tot = 1./sfactorial.factorial(n)*(x/2.)**n\n",
    "    aj = copy(tot)\n",
    "    j = 1\n",
    "    x2 = -(x/2.)**2\n",
    "    while np.abs(aj) >= tol:\n",
    "        aj *= x2/(j*(n+j)) \n",
    "        tot += aj\n",
    "        j+=1\n",
    "    return tot"
   ]
  },
  {
   "cell_type": "code",
   "execution_count": 46,
   "metadata": {},
   "outputs": [
    {
     "data": {
      "text/plain": [
       "[<matplotlib.lines.Line2D at 0x82cd9d990>]"
      ]
     },
     "execution_count": 46,
     "metadata": {},
     "output_type": "execute_result"
    },
    {
     "data": {
      "image/png": "[encoded data removed]",
      "text/plain": [
       "<Figure size 432x288 with 1 Axes>"
      ]
     },
     "metadata": {
      "needs_background": "light"
     },
     "output_type": "display_data"
    }
   ],
   "source": [
    "xvals = np.linspace(0.,40., int(5e3))\n",
    "evalBFp = [Bessel_func(xval,1,1e-8) for xval in xvals]\n",
    "plt.plot(xvals,evalBFp)"
   ]
  },
  {
   "cell_type": "code",
   "execution_count": 47,
   "metadata": {},
   "outputs": [],
   "source": [
    "#Vectorized code for Bessel function\n",
    "# add code here \n"
   ]
  },
  {
   "cell_type": "code",
   "execution_count": 48,
   "metadata": {
    "scrolled": true
   },
   "outputs": [],
   "source": [
    "def Bessel_func_vec(x,n,tol):\n",
    "    tot = 1./sfactorial.factorial(n)*(x/2.)**n\n",
    "    aj = copy(tot)\n",
    "    #aj = 1./sfactorial.factorial(n)*(x/2.)**n\n",
    "    j = 1\n",
    "    x2 = -(x/2.)**2\n",
    "    while np.max(np.abs(aj)) >= tol:\n",
    "        aj *= x2/(j*(n+j)) \n",
    "        tot += aj\n",
    "        j+=1\n",
    "    return tot\n",
    "\n"
   ]
  },
  {
   "cell_type": "code",
   "execution_count": 49,
   "metadata": {},
   "outputs": [
    {
     "data": {
      "text/plain": [
       "[<matplotlib.lines.Line2D at 0x81e6da250>]"
      ]
     },
     "execution_count": 49,
     "metadata": {},
     "output_type": "execute_result"
    },
    {
     "data": {
      "image/png": "[encoded data removed]",
      "text/plain": [
       "<Figure size 432x288 with 1 Axes>"
      ]
     },
     "metadata": {
      "needs_background": "light"
     },
     "output_type": "display_data"
    }
   ],
   "source": [
    "xvals = np.linspace(0.,40., int(5e3))\n",
    "evalBFvec = Bessel_func_vec(xvals,0,1e-8)\n",
    "plt.plot(xvals, evalBFvec)"
   ]
  },
  {
   "cell_type": "code",
   "execution_count": 50,
   "metadata": {},
   "outputs": [],
   "source": [
    "# provide timing comparisons between the non-vectorize and vectorized versions of your function\n",
    "\n",
    "# plot you solution over the xvals above.  Add labels for the x and y axes.  \n",
    "from time import time"
   ]
  },
  {
   "cell_type": "code",
   "execution_count": 51,
   "metadata": {},
   "outputs": [
    {
     "name": "stdout",
     "output_type": "stream",
     "text": [
      "0.002707958221435547\n",
      "0.34859585762023926\n"
     ]
    }
   ],
   "source": [
    "start = time()\n",
    "evalBFvec = Bessel_func_vec(xvals,0,1e-8)\n",
    "end=time()\n",
    "print (end - start)\n",
    "\n",
    "start = time()\n",
    "evalBFp = [Bessel_func(xval,0,1e-8) for xval in xvals]\n",
    "end=time()\n",
    "print (end - start)"
   ]
  },
  {
   "cell_type": "code",
   "execution_count": 52,
   "metadata": {},
   "outputs": [
    {
     "data": {
      "text/plain": [
       "Text(0, 0.5, '$J_{0}$')"
      ]
     },
     "execution_count": 52,
     "metadata": {},
     "output_type": "execute_result"
    },
    {
     "data": {
      "image/png": "[encoded data removed]",
      "text/plain": [
       "<Figure size 432x288 with 1 Axes>"
      ]
     },
     "metadata": {
      "needs_background": "light"
     },
     "output_type": "display_data"
    }
   ],
   "source": [
    "plt.plot(xvals,evalBFp,color='k')\n",
    "plt.xlabel('$x$')\n",
    "plt.ylabel('$J_{0}$')"
   ]
  },
  {
   "cell_type": "markdown",
   "metadata": {},
   "source": [
    "Class exercises:\n",
    "\n",
    "[1] How many integers should I add to obtain 55 if I begin with the number 1 and continue sequentially."
   ]
  },
  {
   "cell_type": "markdown",
   "metadata": {},
   "source": [
    "\n",
    "\n",
    "[2] Given that, \n",
    "\n",
    "$$\n",
    "e^{-x^2} = \\sum_{j=0}^{\\infty} (-1)^{j}\\frac{x^{2j}}{j!},\n",
    "$$\n",
    "\n",
    "generate both non and vectorized, recursive code which allows you to compute $e^{-x^2}$ for any value of $x$.  Using your program plot the function $e^{-x^2}$ for x in the interval $[-2,2]$.\n",
    "\n"
   ]
  },
  {
   "cell_type": "code",
   "execution_count": 53,
   "metadata": {},
   "outputs": [],
   "source": [
    "#non vectorized code\n",
    "def exp_func_sqd(x,tol):\n",
    "    tot = 1. # for the total you wish to return \n",
    "    aj = 1. # the terms you need to update\n",
    "    j = 1 # your counter\n",
    "    xall = -x**2\n",
    "    while np.abs(aj)>=tol:\n",
    "        aj *= xall/j\n",
    "        tot += aj\n",
    "        j+=1 \n",
    "    return tot "
   ]
  },
  {
   "cell_type": "code",
   "execution_count": 54,
   "metadata": {},
   "outputs": [],
   "source": [
    "xvals = np.linspace(-2.,2.,int(1e3))\n",
    "yvalst = np.exp(-xvals**2)\n",
    "yvals1 = [exp_func_sqd(xval,1e-5) for xval in xvals]"
   ]
  },
  {
   "cell_type": "code",
   "execution_count": 55,
   "metadata": {},
   "outputs": [
    {
     "data": {
      "text/plain": [
       "<matplotlib.legend.Legend at 0x82d0dc150>"
      ]
     },
     "execution_count": 55,
     "metadata": {},
     "output_type": "execute_result"
    },
    {
     "data": {
      "image/png": "[encoded data removed]",
      "text/plain": [
       "<Figure size 432x288 with 1 Axes>"
      ]
     },
     "metadata": {
      "needs_background": "light"
     },
     "output_type": "display_data"
    }
   ],
   "source": [
    "plt.plot(xvals,yvalst,color='r', label=\"$e^{-x^2}$\")\n",
    "plt.plot(xvals,yvals1,color='k',ls='--', label=\"$Taylor \\ approx. of \\ e^{-x^2}$\")\n",
    "\n",
    "plt.legend(loc=(0.,.8))"
   ]
  },
  {
   "cell_type": "code",
   "execution_count": 56,
   "metadata": {},
   "outputs": [],
   "source": [
    "#vectorized code\n",
    "def exp_func_sqd_vec(x,tol):\n",
    "    tot = np.ones(x.size) # for the total you wish to return \n",
    "    aj = np.ones(x.size) # the terms you need to update\n",
    "    j = 1 # your counter\n",
    "    xall = -x**2\n",
    "    while np.max(np.abs(aj))>=tol:\n",
    "        aj *= xall/j\n",
    "        tot += aj\n",
    "        j+=1 \n",
    "    return tot "
   ]
  },
  {
   "cell_type": "code",
   "execution_count": 57,
   "metadata": {},
   "outputs": [
    {
     "data": {
      "text/plain": [
       "Text(0, 0.5, '$e^{-x^2}$')"
      ]
     },
     "execution_count": 57,
     "metadata": {},
     "output_type": "execute_result"
    },
    {
     "data": {
      "image/png": "[encoded data removed]",
      "text/plain": [
       "<Figure size 432x288 with 1 Axes>"
      ]
     },
     "metadata": {
      "needs_background": "light"
     },
     "output_type": "display_data"
    }
   ],
   "source": [
    "xvals = np.linspace(-2.,2.,int(1e3))\n",
    "yvalstnew = np.exp(-xvals**2)\n",
    "yvals2 = exp_func_sqd_vec(xvals,1e-5) \n",
    "\n",
    "plt.plot(xvals,yvalstnew,color='k', ls='--')\n",
    "plt.plot(xvals,yvals2)\n",
    "plt.xlabel('$x$')\n",
    "plt.ylabel('$e^{-x^2}$')"
   ]
  },
  {
   "cell_type": "markdown",
   "metadata": {},
   "source": [
    "[3] Write a program to graph the following function\n",
    "\n",
    "$$\n",
    "y(t) = \\left\\{\n",
    "\\begin{array}{rl}\n",
    "0 & \\quad \\text{for} \\quad 0\\leq t < 3 \\\\\n",
    "\\frac{1}{8}[2t - 6\\cos(2(t-3)) - \\sin(2(t-3)) ] & \\quad \\text{for} \\quad t \\ge 3 \n",
    "\\end{array}\n",
    "\\right.\n",
    "$$"
   ]
  },
  {
   "cell_type": "code",
   "execution_count": 58,
   "metadata": {},
   "outputs": [],
   "source": [
    "def step_yt(t):\n",
    "    if t>=3.:\n",
    "        return 1./8*(2*t - 6*np.cos(2*(t-3)) - np.sin(2*(t-3)))\n",
    "    elif t>=0.:\n",
    "        return 0.\n",
    "    else:\n",
    "        return"
   ]
  },
  {
   "cell_type": "code",
   "execution_count": 59,
   "metadata": {},
   "outputs": [
    {
     "data": {
      "text/plain": [
       "[<matplotlib.lines.Line2D at 0x82d407810>]"
      ]
     },
     "execution_count": 59,
     "metadata": {},
     "output_type": "execute_result"
    },
    {
     "data": {
      "image/png": "[encoded data removed]",
      "text/plain": [
       "<Figure size 432x288 with 1 Axes>"
      ]
     },
     "metadata": {
      "needs_background": "light"
     },
     "output_type": "display_data"
    }
   ],
   "source": [
    "xvals = np.linspace(0.,9.,int(1e4))\n",
    "yvals = [step_yt(ii) for ii in xvals] # Note use of list comprehension to generate range of function.\n",
    "\n",
    "plt.plot(xvals,yvals)"
   ]
  },
  {
   "cell_type": "markdown",
   "metadata": {},
   "source": [
    "# Exercises on _While_ loop"
   ]
  },
  {
   "cell_type": "markdown",
   "metadata": {},
   "source": [
    "#### Example 1: Taking an entry from the user via the input fuction"
   ]
  },
  {
   "cell_type": "code",
   "execution_count": 60,
   "metadata": {},
   "outputs": [
    {
     "name": "stdout",
     "output_type": "stream",
     "text": [
      "Enter a number:  2\n",
      "Enter a number:  11\n"
     ]
    }
   ],
   "source": [
    "x = 1 #initialization\n",
    "while x > 0  and  x <= 10:  \n",
    "    x = int(input( 'Enter a number:  ' ))\n",
    "\n",
    "\n"
   ]
  },
  {
   "cell_type": "markdown",
   "metadata": {},
   "source": [
    "#### Example 2: Taking an entry from the user via the input fuction"
   ]
  },
  {
   "cell_type": "code",
   "execution_count": 61,
   "metadata": {},
   "outputs": [],
   "source": [
    "#Here the initial Condition does not satisfy the control statement. \n",
    "#Hence the while loop does not execute\n",
    "\n",
    "x = 11\n",
    "while x > 0  and  x <= 10:  \n",
    "    x = input( 'Enter a number:  ' )\n",
    "    "
   ]
  },
  {
   "cell_type": "markdown",
   "metadata": {},
   "source": [
    "#### Example 3: Be careful: While loop can be dangerous - Creating INFINITE loop"
   ]
  },
  {
   "cell_type": "code",
   "execution_count": 62,
   "metadata": {},
   "outputs": [],
   "source": [
    "######This code is creates an infinite loop\n",
    "#tot = 0\n",
    "#while tot <= 25:\n",
    "#    tot = tot - 1\n",
    "#    print(tot)\n",
    "\n"
   ]
  },
  {
   "cell_type": "markdown",
   "metadata": {},
   "source": [
    "### Example 3: How many integers should I add to obtain 55 if I begin with the number 1 and continue sequentially. "
   ]
  },
  {
   "cell_type": "code",
   "execution_count": 63,
   "metadata": {},
   "outputs": [
    {
     "name": "stdout",
     "output_type": "stream",
     "text": [
      "The sum of the first 1 number(s) is 1\n",
      "\n",
      "The sum of the first 2 number(s) is 3\n",
      "\n",
      "The sum of the first 3 number(s) is 6\n",
      "\n",
      "The sum of the first 4 number(s) is 10\n",
      "\n",
      "The sum of the first 5 number(s) is 15\n",
      "\n",
      "The sum of the first 6 number(s) is 21\n",
      "\n",
      "The sum of the first 7 number(s) is 28\n",
      "\n",
      "The sum of the first 8 number(s) is 36\n",
      "\n",
      "The sum of the first 9 number(s) is 45\n",
      "\n",
      "The sum of the first 10 number(s) is 55\n",
      "\n"
     ]
    }
   ],
   "source": [
    "tot = 0 \n",
    "n = 1\n",
    "while tot < 55:\n",
    "    tot = tot + n\n",
    "    print ('The sum of the first %d number(s) is %d\\n' %(n, tot))\n",
    "    n = n+1\n",
    "\n"
   ]
  },
  {
   "cell_type": "code",
   "execution_count": null,
   "metadata": {},
   "outputs": [],
   "source": []
  }
 ],
 "metadata": {
  "kernelspec": {
   "display_name": "Python 3",
   "language": "python",
   "name": "python3"
  },
  "language_info": {
   "codemirror_mode": {
    "name": "ipython",
    "version": 3
   },
   "file_extension": ".py",
   "mimetype": "text/x-python",
   "name": "python",
   "nbconvert_exporter": "python",
   "pygments_lexer": "ipython3",
   "version": "3.7.4"
  }
 },
 "nbformat": 4,
 "nbformat_minor": 2
}
