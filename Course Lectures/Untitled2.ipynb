{
 "cells": [
  {
   "cell_type": "code",
   "execution_count": 1,
   "metadata": {},
   "outputs": [],
   "source": [
    "import numpy as np\n",
    "from copy import copy\n",
    "from time import time\n",
    "\n",
    "\n",
    "import matplotlib.pyplot as plt\n",
    "\n",
    "import scipy.special  as sfactorial\n",
    "%matplotlib inline"
   ]
  },
  {
   "cell_type": "markdown",
   "metadata": {},
   "source": [
    "So, let's say we wanted to compute the Taylor series around $x_{0}=0$ of $e^{x}$, which is given by \n",
    "\n",
    "$$\n",
    "e^{x} = \\sum_{j=0}^{\\infty} \\frac{x^{j}}{j!}.\n",
    "$$\n",
    "\n",
    "The idea here is to keep adding terms until a term, say $x^{j}/j!$ is, in magnitude, smaller than some specified tolerance, say `tol`.  In otherwords\n",
    "\n",
    "`while np.abs(aj) >= tol: keep doing stuff`\n",
    "\n",
    "Here the variable `aj` stands for $x^{j}/j!$.  The variable `tol` is the value we use to determine whether a given term is too small in order to keep iterating. \n",
    "\n",
    "To keep going, we note that if we write \n",
    "\n",
    "$$\n",
    "e^{x} = \\sum_{j=0}^{\\infty}a_{j}(x),\n",
    "$$\n",
    "\n",
    "then we see that \n",
    "\n",
    "$$\n",
    "\\frac{a_{j}(x)}{a_{j-1}(x)} = \\frac{x}{j},\n",
    "$$\n",
    "\n",
    "or \n",
    "\n",
    "$$\n",
    "a_{j}(x) = \\left\\{\n",
    "\\begin{array}{rl}\n",
    "\\frac{x}{j} a_{j-1}(x) & j\\geq 1\\\\\n",
    "1 & j=0\n",
    "\\end{array}\n",
    "\\right.\n",
    "$$\n",
    "\n",
    "So, if put this all together, to make this work in Python, we write "
   ]
  },
  {
   "cell_type": "code",
   "execution_count": 2,
   "metadata": {},
   "outputs": [],
   "source": [
    "def exp_func(x,tol):\n",
    "    tot = 1. # for the total you wish to return \n",
    "    aj = 1. # the terms you need to update\n",
    "    j = 1 # your counter\n",
    "    while np.abs(aj)>=tol:\n",
    "        aj *= x/j\n",
    "        tot += aj\n",
    "        j+=1 \n",
    "        # what would you put here in order to update your term, total, and counter?\n",
    "    return tot # what would you put here?"
   ]
  },
  {
   "cell_type": "markdown",
   "metadata": {},
   "source": [
    "## Vectorization in NumPy\n",
    "\n",
    "We are now going to explore a key feature of NumPy which is _vectorization_.  This is a feature whereby instead of explicitly calling a loop, NumPy just knows to iterate over every entry of a NumPy array in some reasonable manner.  "
   ]
  },
  {
   "cell_type": "markdown",
   "metadata": {},
   "source": [
    "So, now let's think about how we can vectorize our function `exp_func` so that we can just pass one NumPy array `x`.  To make this work, we need to initialize our loops with  \n",
    "\n",
    "`\n",
    "tot = np.ones(x.size)\n",
    "aj = np.ones(x.size)\n",
    "`\n",
    "\n",
    "which builds two NumPy arrays that are as long as `x`, and have entries equal to one.  Then, when we call \n",
    "\n",
    "`\n",
    "aj *= x/j\n",
    "`\n",
    "\n",
    "which is equivalent to \n",
    "\n",
    "`\n",
    "aj = aj*x/j\n",
    "`\n",
    "\n",
    "what is happening is that we multiply each entry of `aj` by each entry of the array `x/j`.  In other words, the above statement is equivalent to\n",
    "\n",
    "`\n",
    "for ll in xrange(0:x.size):\n",
    "    aj[ll] *= x[ll]/j\n",
    "`\n",
    "\n",
    "but with vectorization, we do not explicitly call the `for` loop since NumPy understands to use it implicitly.  But then, how do we adjust our logic in our while loop so that we can work over an entire array of new terms `aj`?  This is where we need to make use of \n",
    "\n",
    "`while np.max(np.abs(aj))>=tol:`\n",
    "\n",
    "but why?"
   ]
  },
  {
   "cell_type": "code",
   "execution_count": 3,
   "metadata": {},
   "outputs": [],
   "source": [
    "def exp_func_vec(x,tol):\n",
    "    tot = np.ones(x.size) # for the total you wish to return \n",
    "    aj = np.ones(x.size) # the terms you need to update\n",
    "    j = 1 # your counter\n",
    "    while np.max(np.abs(aj))>=tol:\n",
    "        aj *= x/j\n",
    "        tot += aj\n",
    "        j += 1\n",
    "        # what would you put here in order to update your term, total, and counter?\n",
    "    return tot # what would you put here?"
   ]
  },
  {
   "cell_type": "code",
   "execution_count": 4,
   "metadata": {},
   "outputs": [
    {
     "name": "stdout",
     "output_type": "stream",
     "text": [
      "Time to run vectorized code was: 0.001995086669922\n",
      "Time to run non-vectorized code was: 0.039157152175903\n"
     ]
    },
    {
     "data": {
      "text/plain": [
       "Text(0, 0.5, '$e^{x}$')"
      ]
     },
     "execution_count": 4,
     "metadata": {},
     "output_type": "execute_result"
    },
    {
     "data": {
      "image/png": "[encoded data removed]",
      "text/plain": [
       "<Figure size 432x288 with 1 Axes>"
      ]
     },
     "metadata": {
      "needs_background": "light"
     },
     "output_type": "display_data"
    }
   ],
   "source": [
    "# You insert code which allows you to compare the performance of exp_func to exp_func_vec.  \n",
    "# As a means of generating a test, use the array of x-values \n",
    "\n",
    "xvals = np.linspace(-2.,2.,int(1e3))\n",
    "\n",
    "start = time()\n",
    "evalsv = exp_func_vec(xvals,1e-9)\n",
    "end = time()\n",
    "tvec = end - start\n",
    "print (\"Time to run vectorized code was: %1.15f\" %tvec)\n",
    "\n",
    "# insert code here for \"non-vectorized code\"\n",
    "start = time()\n",
    "evalsp = [exp_func(xval,1e-9) for xval in xvals]\n",
    "end = time()\n",
    "tvec = end - start\n",
    "print (\"Time to run non-vectorized code was: %1.15f\" %tvec)\n",
    "\n",
    "plt.plot(xvals,evalsv,color='k')\n",
    "plt.xlabel('$x$')\n",
    "plt.ylabel('$e^{x}$')"
   ]
  },
  {
   "cell_type": "code",
   "execution_count": 5,
   "metadata": {},
   "outputs": [
    {
     "data": {
      "text/plain": [
       "19.54887218045113"
      ]
     },
     "execution_count": 5,
     "metadata": {},
     "output_type": "execute_result"
    }
   ],
   "source": [
    "0.039/0.001995"
   ]
  },
  {
   "cell_type": "code",
   "execution_count": null,
   "metadata": {},
   "outputs": [],
   "source": []
  }
 ],
 "metadata": {
  "kernelspec": {
   "display_name": "Python 3",
   "language": "python",
   "name": "python3"
  },
  "language_info": {
   "codemirror_mode": {
    "name": "ipython",
    "version": 3
   },
   "file_extension": ".py",
   "mimetype": "text/x-python",
   "name": "python",
   "nbconvert_exporter": "python",
   "pygments_lexer": "ipython3",
   "version": "3.7.4"
  }
 },
 "nbformat": 4,
 "nbformat_minor": 2
}
