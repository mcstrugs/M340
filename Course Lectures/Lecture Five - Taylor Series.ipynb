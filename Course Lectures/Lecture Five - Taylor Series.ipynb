{
 "cells": [
  {
   "cell_type": "markdown",
   "metadata": {},
   "source": [
    "# Part Two: Taylor Series \n",
    "\n",
    "You might remember from Calculus II the idea of a Taylor series associated with a function.  We are going to revisit that concept and expand on it since Taylor series will be a major part of this course.  So to get started, for a function $f(x)$ which is smooth, i.e. infinitely differentiable, in some interval say $[x_{0}-\\delta,x_{0}+\\delta]$, we say $f(x)$ has a Taylor series _around_ $x_{0}$ if on the interval we can write\n",
    "\n",
    "$$\n",
    "f(x) = \\sum_{j=0}^{\\infty}\\left.\\frac{d^{j}f}{dx^{j}}\\right|_{x=x_{0}}\\frac{(x-x_{0})^{j}}{j!}, ~ x\\in[x_{0}-\\delta,x_{0}+\\delta].\n",
    "$$\n",
    "\n",
    "Classic examples of this are the Taylor series around $x_{0}=0$ (thus also known as _Maclaurin series_), for $\\sin(x)$, $\\cos(x)$, and $e^{x}$ which are \n",
    "\n",
    "\\begin{align*}\n",
    "\\sin(x) = & \\sum_{j=0}^{\\infty}\\frac{(-1)^{j}x^{2j+1}}{(2j+1)!}\\\\\n",
    "\\cos(x) = & \\sum_{j=0}^{\\infty}\\frac{(-1)^{j}x^{2j}}{(2j)!}\\\\\n",
    "e^{x} = & \\sum_{j=0}^{\\infty} \\frac{x^{j}}{j!}.\n",
    "\\end{align*}\n",
    "\n",
    "Here $\\delta = \\infty$, which doesn't strictly make sense, but only really means that we are saying the sums converge for any point $x\\in \\mathbb{R}$."
   ]
  },
  {
   "cell_type": "markdown",
   "metadata": {},
   "source": [
    "_Problem_: If $i$ is the imaginary number such that $i^{2}=-1$, then show Euler's formula \n",
    "\n",
    "$$\n",
    "e^{ix} = \\cos(x) + i \\sin(x).\n",
    "$$\n",
    "\n",
    "To do this, you need to use the fact that $i^{2}=-1$, $i^{3}=-i$, and $i^{4}=1$.  Then you need to use the fact that \n",
    "\n",
    "$$\n",
    "e^{ix} = \\sum_{j=0}^{\\infty}\\frac{i^{j}x^{j}}{j!}.\n",
    "$$"
   ]
  },
  {
   "cell_type": "markdown",
   "metadata": {},
   "source": [
    "Another classic result is the Taylor series for a geometric series.  This is given by \n",
    "\n",
    "$$\n",
    "\\frac{1}{1-x} = \\sum_{j=0}^{\\infty} x^{j}, ~ |x|<1.\n",
    "$$\n",
    "\n",
    "So, again, $x_{0}=0$, but now we see that $\\delta<1$.  This makes this expansion look like it is of limited use, but in fact, it is super handy.  For example, say  I give you the function\n",
    "\n",
    "$$\n",
    "f(x) = \\frac{1}{2-3x}.\n",
    "$$\n",
    "\n",
    "Suppose I want the Taylor series of this function around any point $x_{0}\\neq 2/3$.  Now while you can of course start taking derivative after derivative, this is not at all efficient.  Instead here is what you should do.\n",
    "\n",
    "\\begin{align*}\n",
    "f(x) = & \\frac{1}{2-3x}\\\\\n",
    "= & \\frac{1}{2-3(x-x_{0}+x_{0})}\\\\\n",
    "= & \\frac{1}{2-3x_{0}-3(x-x_{0})}\\\\\n",
    "= & \\frac{1}{2-3x_{0}}\\frac{1}{1 - \\left(\\frac{3(x-x_{0})}{2-3x_{0}} \\right)}\\\\\n",
    "= & \\frac{1}{2-3x_{0}}\\sum_{j=0}^{\\infty} \\frac{3^{j}(x-x_{0})^{j}}{(2-3x_{0})^{j}}\\\\\n",
    "= & \\sum_{j=0}^{\\infty} \\frac{3^{j}}{(2-3x_{0})^{j+1}}(x-x_{0})^{j}\n",
    "\\end{align*}\n",
    "\n",
    "with the stipulation that \n",
    "\n",
    "$$\n",
    "\\left|\\frac{3(x-x_{0})}{2-3x_{0}}\\right|<1,\n",
    "$$\n",
    "\n",
    "or equivalently \n",
    "\n",
    "$$\n",
    "x_{0} -\\frac{1}{3}\\left|2-3x_{0}\\right|< x < x_{0} +\\frac{1}{3}\\left|2-3x_{0}\\right|.\n",
    "$$\n",
    "\n",
    "Thus, by using a base form, we can not only readily compute the Taylor series in a very few number of steps, but we can also determine the interval of convergence for the series.  "
   ]
  },
  {
   "cell_type": "markdown",
   "metadata": {},
   "source": [
    "_ Problem _ : Find the Taylor series of \n",
    "    \n",
    "$$\n",
    "f(x) = \\frac{1}{4+7x},\n",
    "$$\n",
    "\n",
    "around $x_{0}$.  Find the interval of convergence as well.  "
   ]
  },
  {
   "cell_type": "markdown",
   "metadata": {},
   "source": [
    "So, okay, great, there are such things as Taylor series.  What can we use them for?  The best answer to that question comes via another question.  What is $\\sin(.1)$?  Now, we know $\\sin(0)=0$, and we know $\\sin(\\pi/6)=.5$.  But what about $\\sin(.1)$?  So, if we use the Taylor series from above, we have that \n",
    "\n",
    "$$\n",
    "\\sin(x) = x - \\frac{x^{3}}{3!} + \\frac{x^{5}}{5!} - \\cdots\n",
    "$$\n",
    "\n",
    "Thus, one answer to the question is\n",
    "\n",
    "$$\n",
    "\\sin(.1) = .1 - \\frac{(.1)^{3}}{3!} + \\frac{(.1)^{5}}{5!} - \\cdots\n",
    "$$\n",
    "\n",
    "So, hypothetically, I can just keep computing terms of the Taylor series, and if I am willing to do this forever, I can finally know what $\\sin(.1)$ is.  So that in principle is the power of Taylor series.  Instead of having to compute something hard, i.e. $\\sin(.1)$, we can compute easy things in the series an infinite number of times. \n",
    "\n",
    "Of course, no one lives forever.  So doing something an infinite number of times becomes impractical.  Thus, as with so many things in life, we have to decide on a compromise that is good enough.  Said another way, we have to approximate.  To do this, we just start cutting off terms in the Taylor series expansion for $\\sin(x)$.  What I mean by this is we say \n",
    "\n",
    "$$\n",
    "\\sin(.1) \\approx .1\n",
    "$$\n",
    "\n",
    "or, including the next term, we might try\n",
    "\n",
    "$$\n",
    "\\sin(.1) \\approx .1 - \\frac{(.1)^{3}}{3!}\n",
    "$$\n",
    "\n",
    "So, let's quickly use Python to see where this goes."
   ]
  },
  {
   "cell_type": "code",
   "execution_count": 1,
   "metadata": {},
   "outputs": [
    {
     "name": "stdout",
     "output_type": "stream",
     "text": [
      "Approximation to sin(.1) is 0.100000000000000\n",
      "Approximation to sin(.1) is 0.099833333333333\n",
      "Approximation to sin(.1) is 0.099833416666667\n",
      "Approximation to sin(.1) is 0.099833416646825\n"
     ]
    }
   ],
   "source": [
    "print (\"Approximation to sin(.1) is %1.15f\" %.1) \n",
    "print (\"Approximation to sin(.1) is %1.15f\" %(.1 - (.1)**3./6))\n",
    "print (\"Approximation to sin(.1) is %1.15f\" %(.1 - (.1)**3./6 + (.1)**5./120))\n",
    "print (\"Approximation to sin(.1) is %1.15f\" %(.1 - (.1)**3./6 + (.1)**5./120 - (.1)**7./(42*120)))"
   ]
  },
  {
   "cell_type": "markdown",
   "metadata": {},
   "source": []
  },
  {
   "cell_type": "code",
   "execution_count": 2,
   "metadata": {},
   "outputs": [],
   "source": [
    "import numpy as np\n",
    "import matplotlib.pyplot as plt\n",
    "%matplotlib inline"
   ]
  },
  {
   "cell_type": "markdown",
   "metadata": {},
   "source": [
    "So, while we do not actually know what $\\sin(.1)$ is, we do see that as we keep taking more terms of the Taylor series, we get what looks to be convergence to a particular value.  Ostensibly, if we keep adding on more terms, we would keep getting more digits, and so again, while we would never know exactly what the true value is, we could _ approximate _ it to whatever degree of accuracy we might want.  "
   ]
  },
  {
   "cell_type": "markdown",
   "metadata": {},
   "source": [
    "In this vein, we can talk about defining whole functions using Taylor series to approximate other ones.  So, we can say\n",
    "\n",
    "$$\n",
    "\\sin(x) \\approx T_{2n+1}(x;0), ~ T_{2n+1}(x;0) = \\sum_{j=0}^{n}\\frac{(-1)^{j}x^{2j+1}}{(2j+1)!}.\n",
    "$$\n",
    "\n",
    "So, let's see how this works.  "
   ]
  },
  {
   "cell_type": "code",
   "execution_count": 3,
   "metadata": {},
   "outputs": [],
   "source": [
    "def tn_approx(x,n):\n",
    "    tot = 1.\n",
    "    term = 1.\n",
    "    for jj in range(1,n+1):\n",
    "        term *= -x**2/((2*jj+1)*(2*jj))\n",
    "        tot += term\n",
    "    return x*tot"
   ]
  },
  {
   "cell_type": "code",
   "execution_count": 4,
   "metadata": {},
   "outputs": [
    {
     "data": {
      "image/png": "[encoded data removed]",
      "text/plain": [
       "<Figure size 648x504 with 1 Axes>"
      ]
     },
     "metadata": {
      "needs_background": "light"
     },
     "output_type": "display_data"
    }
   ],
   "source": [
    "xvals = np.linspace(0,4,int(2e4))\n",
    "\n",
    "exact_vals = np.sin(xvals)\n",
    "\n",
    "t1_app = [tn_approx(xval,0) for xval in xvals]\n",
    "t2_app = [tn_approx(xval,1) for xval in xvals]\n",
    "t3_app = [tn_approx(xval,2) for xval in xvals]\n",
    "t4_app = [tn_approx(xval,3) for xval in xvals]\n",
    "\n",
    "plt.plot(xvals,exact_vals,ls=\"-\", color=\"k\", label=\"$\\sin(x)$\")\n",
    "plt.plot(xvals,t1_app,ls=\"--\", color=\"b\", label=\"$T_{1}(x)$\")\n",
    "plt.plot(xvals,t2_app,ls=\"--\", color=\"g\", label=\"$T_{3}(x)$\")\n",
    "plt.plot(xvals,t3_app,ls=\"--\", color=\"r\", label=\"$T_{5}(x)$\")\n",
    "plt.plot(xvals,t4_app,ls=\"--\", color=\"y\", label=\"$T_{7}(x)$\")\n",
    "\n",
    "plt.legend(loc=(.1,.1)) \n",
    "\n",
    "plt.xlim(0,4.1)\n",
    "plt.ylim(-.75,1.1)\n",
    "\n",
    "fig=plt.gcf() # get current figure\n",
    "fig.set_size_inches(9,7) # optional size"
   ]
  },
  {
   "cell_type": "markdown",
   "metadata": {
    "collapsed": true
   },
   "source": [
    "So, looking at the above figure, we see how adding more terms to the truncated Taylor series expansion improves the overall accuracy of the approximation.  That being said, as you can see, no matter how many terms you add, at some point, the approximation will deviate significantly with the true solution.  Therefore, it would be nice to have a means of knowing in advance how well a given approximation will do over a chosen interval.  This is the point of what is called _ Taylor's Remainder Theorem _, which we address in the next section. First let's import the scipy library, which we will use for numerical integration."
   ]
  },
  {
   "cell_type": "code",
   "execution_count": 5,
   "metadata": {},
   "outputs": [],
   "source": [
    "import scipy.integrate as spqd\n",
    "#SciPy (pronounced “Sigh Pie”) is a Python-based ecosystem of \n",
    "#open-source software for mathematics, science, and engineering. \n",
    "#The SciPy library is one of the core packages that make up the \n",
    "#SciPy stack. It provides many user-friendly and efficient numerical \n",
    "#routines such as routines for numerical integration and optimization."
   ]
  },
  {
   "cell_type": "markdown",
   "metadata": {},
   "source": [
    "Suppose I ask you to find \n",
    "\n",
    "$$\n",
    "I = \\int_{0}^{\\pi/2}\\cos(\\cos(x))dx.\n",
    "$$\n",
    "\n",
    "If we ask Python for the answer, we get something like:"
   ]
  },
  {
   "cell_type": "code",
   "execution_count": 6,
   "metadata": {},
   "outputs": [
    {
     "name": "stdout",
     "output_type": "stream",
     "text": [
      "(1.2019697153172066, 1.3344544528473075e-14)\n"
     ]
    }
   ],
   "source": [
    "print (spqd.quad(lambda x: np.cos(np.cos(x)), 0, np.pi/2.))\n",
    "#Note that numpy library was imported as np above."
   ]
  },
  {
   "cell_type": "markdown",
   "metadata": {},
   "source": [
    "So we found, at least to very high accuracy, that \n",
    "\n",
    "$$\n",
    "I = 1.2019697153172066\n",
    "$$\n",
    "\n",
    "In this vein though, let's see how we can use Taylor series to compute $$\n",
    "\\int_{0}^{\\pi/2}\\cos(\\cos(x))dx.\n",
    "$$ \n",
    "Now, suppose we just use the associated 2nd order Taylor series expansion around $x_{0}=0$ of the integrand.  In other words, find $T_{2}(x;0)$ for $\\cos(\\cos(x))$."
   ]
  },
  {
   "cell_type": "markdown",
   "metadata": {},
   "source": [
    "_ Problem _: Find $T_{2}(x;0)$ for $\\cos(\\cos(x))$ where\n",
    "\n",
    "$$\n",
    "T_{2}(x;0) = \\sum_{j=0}^{2} \\left.\\frac{d^{j}}{dx^{j}}\\cos(\\cos(x)) \\right|_{x=0}\\frac{x^{j}}{j!}\n",
    "$$"
   ]
  },
  {
   "cell_type": "markdown",
   "metadata": {},
   "source": [
    "So, given that we have \n",
    "\n",
    "$$\n",
    "\\cos(\\cos(x)) \\approx \\cos(1) + \\frac{\\sin(1)}{2}x^{2},\n",
    "$$\n",
    "\n",
    "we can then try to use this to approximate $I$ via the integral\n",
    "\n",
    "$$\n",
    "I \\approx \\int_{0}^{\\pi/2}\\left(\\cos(1) + \\frac{\\sin(1)}{2}x^{2} \\right) dx = \\cos(1)\\frac{\\pi}{2} + \\frac{\\sin(1)}{6}\\left(\\frac{\\pi}{2}\\right)^{3}.\n",
    "$$\n",
    "\n",
    "Using Python, we then get from the right hand side"
   ]
  },
  {
   "cell_type": "code",
   "execution_count": 7,
   "metadata": {},
   "outputs": [
    {
     "name": "stdout",
     "output_type": "stream",
     "text": [
      "1.3922649226956116\n"
     ]
    }
   ],
   "source": [
    "print (np.cos(1.)*np.pi/2. + np.sin(1.)/6.*(np.pi/2)**3.)"
   ]
  },
  {
   "cell_type": "code",
   "execution_count": 8,
   "metadata": {
    "scrolled": true
   },
   "outputs": [
    {
     "data": {
      "image/png": "[encoded data removed]",
      "text/plain": [
       "<Figure size 360x360 with 1 Axes>"
      ]
     },
     "metadata": {
      "needs_background": "light"
     },
     "output_type": "display_data"
    }
   ],
   "source": [
    "xvals = np.linspace(0,np.pi/2.,int(2e4))\n",
    "tr_func = np.cos(np.cos(xvals))\n",
    "T2_func = (np.cos(1) + np.sin(1)/2.*xvals**2.) \n",
    "\n",
    "plt.plot(xvals,tr_func,ls=\"-\", color=\"k\", label=\"$\\cos(\\cos(x)$\")\n",
    "plt.plot(xvals,T2_func,ls=\"--\", color=\"b\", label=\"$T_{2}(x)$\")\n",
    "\n",
    "plt.legend(loc=(.1,.8))\n",
    "\n",
    "plt.xlim(0,np.pi/2.)\n",
    "plt.ylim(.5,1.61)\n",
    "\n",
    "\n",
    "fig=plt.gcf() # get current figure\n",
    "fig.set_size_inches(5,5) # optional size"
   ]
  },
  {
   "cell_type": "markdown",
   "metadata": {},
   "source": [
    "Thus, the approximation we use gives us a result of \n",
    "\n",
    "$$\n",
    "I \\approx 1.3922649227\n",
    "$$\n",
    "\n",
    "which, while in the ballpark, is clearly not great.  So how might we improve our estimate?  Well, we note that \n",
    "\n",
    "$$\n",
    "I = \\int_{0}^{\\pi/4}\\cos(\\cos(x))dx + \\int_{\\pi/4}^{\\pi/2}\\cos(\\cos(x))dx.\n",
    "$$\n",
    "\n",
    "Now, if we use $T_{2}(x;0)$ for the first integral, we then get \n",
    "\n",
    "$$\n",
    "\\int_{0}^{\\pi/4}\\cos(\\cos(x))dx \\approx \\cos(1)\\frac{\\pi}{4} + \\frac{\\sin(1)}{6}\\left(\\frac{\\pi}{4}\\right)^{3}.\n",
    "$$\n",
    "\n",
    "Now, as for the second integral, suppose we use $T_{2}(x;\\pi/4)$, or \n",
    "\n",
    "$$\n",
    "T_{2}(x;\\pi/4) = \\sum_{j=0}^{2}\\left.\\frac{d^{j}}{dx^{j}}\\cos(\\cos(x))\\right|_{x=\\pi/4}\\frac{(x-\\pi/4)^{j}}{j!}\n",
    "$$"
   ]
  },
  {
   "cell_type": "markdown",
   "metadata": {},
   "source": [
    "_ Problem _: Find $T_{2}(x;\\pi/4)$ from above.  "
   ]
  },
  {
   "cell_type": "markdown",
   "metadata": {},
   "source": [
    "So, having found \n",
    "\n",
    "$$\n",
    "T_{2}(x;\\pi/4) = \\cos\\left(\\frac{1}{\\sqrt{2}}\\right) + \\frac{1}{\\sqrt{2}}\\sin\\left(\\frac{1}{\\sqrt{2}}\\right)\\left(x-\\frac{\\pi}{4} \\right) + \\frac{1}{2}\\left(\\frac{1}{\\sqrt{2}}\\sin\\left(\\frac{1}{\\sqrt{2}}\\right)-\\frac{1}{2}\\cos\\left(\\frac{1}{\\sqrt{2}}\\right) \\right)\\left(x-\\frac{\\pi}{4}\\right)^{2}\n",
    "$$\n",
    "\n",
    "we now want to use this so that we can get the approximation\n",
    "\n",
    "$$\n",
    "\\int_{\\pi/4}^{\\pi/2} \\cos(\\cos(x))dx \\approx \\int_{\\pi/4}^{\\pi/2}T_{2}(x;\\pi/4)dx.\n",
    "$$\n",
    "\n",
    "To make this as efficient as possible, might I suggest writing\n",
    "\n",
    "$$\n",
    "T_{2}(x) = a + b(x-\\pi/4) + c(x-\\pi/4)^{2},\n",
    "$$\n",
    "\n",
    "where\n",
    "\n",
    "\\begin{align*}\n",
    "a = & \\cos\\left(\\frac{1}{\\sqrt{2}}\\right),\\\\\n",
    "b = & \\frac{1}{\\sqrt{2}}\\sin\\left(\\frac{1}{\\sqrt{2}}\\right),\\\\\n",
    "c = & \\frac{1}{2}\\left(\\frac{1}{\\sqrt{2}}\\sin\\left(\\frac{1}{\\sqrt{2}}\\right)-\\frac{1}{2}\\cos\\left(\\frac{1}{\\sqrt{2}}\\right) \\right).\n",
    "\\end{align*}\n",
    "\n",
    "Then, using the variable transformation $u = x-\\pi/4$, we get the identity\n",
    "\n",
    "$$\n",
    "\\int_{\\pi/4}^{\\pi/2} T_{2}(x;\\pi/4)dx = \\int_{0}^{\\pi/4} (a + bu + cu^{2}) du, \n",
    "$$\n",
    "\n",
    "so that we readily can see that \n",
    "\n",
    "$$\n",
    "\\int_{\\pi/4}^{\\pi/2} \\cos(\\cos(x))dx \\approx a\\frac{\\pi}{4} + \\frac{b}{2}\\left(\\frac{\\pi}{4}\\right)^{2}  + \\frac{c}{3}\\left(\\frac{\\pi}{4}\\right)^{3}. \n",
    "$$\n",
    "\n",
    "We can now write that:\n",
    "\n",
    "\\begin{align}\n",
    "I &= \\int_{0}^{\\pi/4}\\cos(\\cos(x))dx + \\int_{\\pi/4}^{\\pi/2}\\cos(\\cos(x))dx \\\\\n",
    "&\\approx \\cos(1)\\frac{\\pi}{4} + \\frac{\\sin(1)}{6}\\left(\\frac{\\pi}{4}\\right)^{3} + a\\frac{\\pi}{4} + \\frac{b}{2}\\left(\\frac{\\pi}{4}\\right)^{2}  + \\frac{c}{3}\\left(\\frac{\\pi}{4}\\right)^{3}. \n",
    "\\end{align}\n",
    "\n",
    "\n",
    "\n",
    "Turning to Python again, we can then readily put everything together to find the approximate value of the integral. "
   ]
  },
  {
   "cell_type": "code",
   "execution_count": 9,
   "metadata": {},
   "outputs": [
    {
     "name": "stdout",
     "output_type": "stream",
     "text": [
      "1.2374694595080271\n"
     ]
    }
   ],
   "source": [
    "sq2 = 1./np.sqrt(2.)\n",
    "p4 = np.pi/4.\n",
    "p42 = p4**2.\n",
    "p43 = p42*p4\n",
    "a = np.cos(sq2)\n",
    "b = sq2*np.sin(sq2)\n",
    "c = (b - a/2.)/2.\n",
    "\n",
    "I1 = np.cos(1.)*p4 + np.sin(1.)*p43/6.\n",
    "I2 = p4*a + p42*b/2. + p43*c/3.\n",
    "Ia = I1+I2\n",
    "\n",
    "print (Ia)"
   ]
  },
  {
   "cell_type": "code",
   "execution_count": 10,
   "metadata": {},
   "outputs": [
    {
     "data": {
      "image/png": "[encoded data removed]",
      "text/plain": [
       "<Figure size 648x504 with 1 Axes>"
      ]
     },
     "metadata": {
      "needs_background": "light"
     },
     "output_type": "display_data"
    }
   ],
   "source": [
    "Nvals = int(2e4)\n",
    "\n",
    "xvals = np.linspace(0,np.pi/2.,Nvals)\n",
    "xvalsl = np.linspace(0,np.pi/4.,Nvals)\n",
    "xvalsr = np.linspace(np.pi/4.,np.pi/2.,Nvals)\n",
    "\n",
    "tr_func = np.cos(np.cos(xvals)) \n",
    "T2_func = (np.cos(1) + np.sin(1)/2.*xvalsl**2.)\n",
    "T2a_func = (a+b*(xvalsr-np.pi/4.) + c*(xvalsr-np.pi/4.)**2.)\n",
    "\n",
    "plt.plot(xvals,tr_func,ls=\"-\", color=\"k\", label=\"$\\cos(\\cos(x))$\")\n",
    "plt.plot(xvalsl,T2_func,ls=\"--\", color=\"b\", label=\"$T_{2}(x;0)$\")\n",
    "plt.plot(xvalsr,T2a_func,ls=\"--\", color=\"r\", label=\"$T_{2}(x;\\pi/4)$\")\n",
    "\n",
    "plt.legend(loc=(.1,.8))\n",
    "\n",
    "plt.xlim(0,np.pi/2.)\n",
    "plt.ylim(.5,1.18)\n",
    "\n",
    "#plt.axes().set_aspect(\"equal\")\n",
    "\n",
    "fig=plt.gcf() # get current figure\n",
    "fig.set_size_inches(9,7) # optional size"
   ]
  },
  {
   "cell_type": "code",
   "execution_count": 11,
   "metadata": {},
   "outputs": [
    {
     "name": "stdout",
     "output_type": "stream",
     "text": [
      "The \"print\" statement\n",
      "*********************\n",
      "\n",
      "   print_stmt ::= \"print\" ([expression (\",\" expression)* [\",\"]]\n",
      "                  | \">>\" expression [(\",\" expression)+ [\",\"]])\n",
      "\n",
      "\"print\" evaluates each expression in turn and writes the resulting\n",
      "object to standard output (see below).  If an object is not a string,\n",
      "it is first converted to a string using the rules for string\n",
      "conversions.  The (resulting or original) string is then written.  A\n",
      "space is written before each object is (converted and) written, unless\n",
      "the output system believes it is positioned at the beginning of a\n",
      "line.  This is the case (1) when no characters have yet been written\n",
      "to standard output, (2) when the last character written to standard\n",
      "output is a whitespace character except \"' '\", or (3) when the last\n",
      "write operation on standard output was not a \"print\" statement. (In\n",
      "some cases it may be functional to write an empty string to standard\n",
      "output for this reason.)\n",
      "\n",
      "Note: Objects which act like file objects but which are not the\n",
      "  built-in file objects often do not properly emulate this aspect of\n",
      "  the file object's behavior, so it is best not to rely on this.\n",
      "\n",
      "A \"'\\n'\" character is written at the end, unless the \"print\" statement\n",
      "ends with a comma.  This is the only action if the statement contains\n",
      "just the keyword \"print\".\n",
      "\n",
      "Standard output is defined as the file object named \"stdout\" in the\n",
      "built-in module \"sys\".  If no such object exists, or if it does not\n",
      "have a \"write()\" method, a \"RuntimeError\" exception is raised.\n",
      "\n",
      "\"print\" also has an extended form, defined by the second portion of\n",
      "the syntax described above. This form is sometimes referred to as\n",
      "\"\"print\" chevron.\" In this form, the first expression after the \">>\"\n",
      "must evaluate to a \"file-like\" object, specifically an object that has\n",
      "a \"write()\" method as described above.  With this extended form, the\n",
      "subsequent expressions are printed to this file object.  If the first\n",
      "expression evaluates to \"None\", then \"sys.stdout\" is used as the file\n",
      "for output.\n",
      "\n",
      "The \"import\" statement\n",
      "**********************\n",
      "\n",
      "   import_stmt     ::= \"import\" module [\"as\" name] ( \",\" module [\"as\" name] )*\n",
      "                   | \"from\" relative_module \"import\" identifier [\"as\" name]\n",
      "                   ( \",\" identifier [\"as\" name] )*\n",
      "                   | \"from\" relative_module \"import\" \"(\" identifier [\"as\" name]\n",
      "                   ( \",\" identifier [\"as\" name] )* [\",\"] \")\"\n",
      "                   | \"from\" module \"import\" \"*\"\n",
      "   module          ::= (identifier \".\")* identifier\n",
      "   relative_module ::= \".\"* module | \".\"+\n",
      "   name            ::= identifier\n",
      "\n",
      "Import statements are executed in two steps: (1) find a module, and\n",
      "initialize it if necessary; (2) define a name or names in the local\n",
      "namespace (of the scope where the \"import\" statement occurs). The\n",
      "statement comes in two forms differing on whether it uses the \"from\"\n",
      "keyword. The first form (without \"from\") repeats these steps for each\n",
      "identifier in the list. The form with \"from\" performs step (1) once,\n",
      "and then performs step (2) repeatedly.\n",
      "\n",
      "To understand how step (1) occurs, one must first understand how\n",
      "Python handles hierarchical naming of modules. To help organize\n",
      "modules and provide a hierarchy in naming, Python has a concept of\n",
      "packages. A package can contain other packages and modules while\n",
      "modules cannot contain other modules or packages. From a file system\n",
      "perspective, packages are directories and modules are files.\n",
      "\n",
      "Once the name of the module is known (unless otherwise specified, the\n",
      "term \"module\" will refer to both packages and modules), searching for\n",
      "the module or package can begin. The first place checked is\n",
      "\"sys.modules\", the cache of all modules that have been imported\n",
      "previously. If the module is found there then it is used in step (2)\n",
      "of import.\n",
      "\n",
      "If the module is not found in the cache, then \"sys.meta_path\" is\n",
      "searched (the specification for \"sys.meta_path\" can be found in **PEP\n",
      "302**). The object is a list of *finder* objects which are queried in\n",
      "order as to whether they know how to load the module by calling their\n",
      "\"find_module()\" method with the name of the module. If the module\n",
      "happens to be contained within a package (as denoted by the existence\n",
      "of a dot in the name), then a second argument to \"find_module()\" is\n",
      "given as the value of the \"__path__\" attribute from the parent package\n",
      "(everything up to the last dot in the name of the module being\n",
      "imported). If a finder can find the module it returns a *loader*\n",
      "(discussed later) or returns \"None\".\n",
      "\n",
      "If none of the finders on \"sys.meta_path\" are able to find the module\n",
      "then some implicitly defined finders are queried. Implementations of\n",
      "Python vary in what implicit meta path finders are defined. The one\n",
      "they all do define, though, is one that handles \"sys.path_hooks\",\n",
      "\"sys.path_importer_cache\", and \"sys.path\".\n",
      "\n",
      "The implicit finder searches for the requested module in the \"paths\"\n",
      "specified in one of two places (\"paths\" do not have to be file system\n",
      "paths). If the module being imported is supposed to be contained\n",
      "within a package then the second argument passed to \"find_module()\",\n",
      "\"__path__\" on the parent package, is used as the source of paths. If\n",
      "the module is not contained in a package then \"sys.path\" is used as\n",
      "the source of paths.\n",
      "\n",
      "Once the source of paths is chosen it is iterated over to find a\n",
      "finder that can handle that path. The dict at\n",
      "\"sys.path_importer_cache\" caches finders for paths and is checked for\n",
      "a finder. If the path does not have a finder cached then\n",
      "\"sys.path_hooks\" is searched by calling each object in the list with a\n",
      "single argument of the path, returning a finder or raises\n",
      "\"ImportError\". If a finder is returned then it is cached in\n",
      "\"sys.path_importer_cache\" and then used for that path entry. If no\n",
      "finder can be found but the path exists then a value of \"None\" is\n",
      "stored in \"sys.path_importer_cache\" to signify that an implicit, file-\n",
      "based finder that handles modules stored as individual files should be\n",
      "used for that path. If the path does not exist then a finder which\n",
      "always returns \"None\" is placed in the cache for the path.\n",
      "\n",
      "If no finder can find the module then \"ImportError\" is raised.\n",
      "Otherwise some finder returned a loader whose \"load_module()\" method\n",
      "is called with the name of the module to load (see **PEP 302** for the\n",
      "original definition of loaders). A loader has several responsibilities\n",
      "to perform on a module it loads. First, if the module already exists\n",
      "in \"sys.modules\" (a possibility if the loader is called outside of the\n",
      "import machinery) then it is to use that module for initialization and\n",
      "not a new module. But if the module does not exist in \"sys.modules\"\n",
      "then it is to be added to that dict before initialization begins. If\n",
      "an error occurs during loading of the module and it was added to\n",
      "\"sys.modules\" it is to be removed from the dict. If an error occurs\n",
      "but the module was already in \"sys.modules\" it is left in the dict.\n",
      "\n",
      "The loader must set several attributes on the module. \"__name__\" is to\n",
      "be set to the name of the module. \"__file__\" is to be the \"path\" to\n",
      "the file unless the module is built-in (and thus listed in\n",
      "\"sys.builtin_module_names\") in which case the attribute is not set. If\n",
      "what is being imported is a package then \"__path__\" is to be set to a\n",
      "list of paths to be searched when looking for modules and packages\n",
      "contained within the package being imported. \"__package__\" is optional\n",
      "but should be set to the name of package that contains the module or\n",
      "package (the empty string is used for module not contained in a\n",
      "package). \"__loader__\" is also optional but should be set to the\n",
      "loader object that is loading the module.\n",
      "\n",
      "If an error occurs during loading then the loader raises \"ImportError\"\n",
      "if some other exception is not already being propagated. Otherwise the\n",
      "loader returns the module that was loaded and initialized.\n",
      "\n",
      "When step (1) finishes without raising an exception, step (2) can\n",
      "begin.\n",
      "\n",
      "The first form of \"import\" statement binds the module name in the\n",
      "local namespace to the module object, and then goes on to import the\n",
      "next identifier, if any.  If the module name is followed by \"as\", the\n",
      "name following \"as\" is used as the local name for the module.\n",
      "\n",
      "The \"from\" form does not bind the module name: it goes through the\n",
      "list of identifiers, looks each one of them up in the module found in\n",
      "step (1), and binds the name in the local namespace to the object thus\n",
      "found.  As with the first form of \"import\", an alternate local name\n",
      "can be supplied by specifying \"\"as\" localname\".  If a name is not\n",
      "found, \"ImportError\" is raised.  If the list of identifiers is\n",
      "replaced by a star (\"'*'\"), all public names defined in the module are\n",
      "bound in the local namespace of the \"import\" statement..\n",
      "\n",
      "The *public names* defined by a module are determined by checking the\n",
      "module's namespace for a variable named \"__all__\"; if defined, it must\n",
      "be a sequence of strings which are names defined or imported by that\n",
      "module.  The names given in \"__all__\" are all considered public and\n",
      "are required to exist.  If \"__all__\" is not defined, the set of public\n",
      "names includes all names found in the module's namespace which do not\n",
      "begin with an underscore character (\"'_'\"). \"__all__\" should contain\n",
      "the entire public API. It is intended to avoid accidentally exporting\n",
      "items that are not part of the API (such as library modules which were\n",
      "imported and used within the module).\n",
      "\n",
      "The \"from\" form with \"*\" may only occur in a module scope.  If the\n",
      "wild card form of import --- \"import *\" --- is used in a function and\n",
      "the function contains or is a nested block with free variables, the\n",
      "compiler will raise a \"SyntaxError\".\n",
      "\n",
      "When specifying what module to import you do not have to specify the\n",
      "absolute name of the module. When a module or package is contained\n",
      "within another package it is possible to make a relative import within\n",
      "the same top package without having to mention the package name. By\n",
      "using leading dots in the specified module or package after \"from\" you\n",
      "can specify how high to traverse up the current package hierarchy\n",
      "without specifying exact names. One leading dot means the current\n",
      "package where the module making the import exists. Two dots means up\n",
      "one package level. Three dots is up two levels, etc. So if you execute\n",
      "\"from . import mod\" from a module in the \"pkg\" package then you will\n",
      "end up importing \"pkg.mod\". If you execute \"from ..subpkg2 import mod\"\n",
      "from within \"pkg.subpkg1\" you will import \"pkg.subpkg2.mod\". The\n",
      "specification for relative imports is contained within **PEP 328**.\n",
      "\n",
      "\"importlib.import_module()\" is provided to support applications that\n",
      "determine which modules need to be loaded dynamically.\n",
      "\n",
      "\n",
      "Future statements\n",
      "=================\n",
      "\n",
      "A *future statement* is a directive to the compiler that a particular\n",
      "module should be compiled using syntax or semantics that will be\n",
      "available in a specified future release of Python.  The future\n",
      "statement is intended to ease migration to future versions of Python\n",
      "that introduce incompatible changes to the language.  It allows use of\n",
      "the new features on a per-module basis before the release in which the\n",
      "feature becomes standard.\n",
      "\n",
      "   future_statement ::= \"from\" \"__future__\" \"import\" feature [\"as\" name]\n",
      "                        (\",\" feature [\"as\" name])*\n",
      "                        | \"from\" \"__future__\" \"import\" \"(\" feature [\"as\" name]\n",
      "                        (\",\" feature [\"as\" name])* [\",\"] \")\"\n",
      "   feature          ::= identifier\n",
      "   name             ::= identifier\n",
      "\n",
      "A future statement must appear near the top of the module.  The only\n",
      "lines that can appear before a future statement are:\n",
      "\n",
      "* the module docstring (if any),\n",
      "\n",
      "* comments,\n",
      "\n",
      "* blank lines, and\n",
      "\n",
      "* other future statements.\n",
      "\n",
      "The features recognized by Python 2.6 are \"unicode_literals\",\n",
      "\"print_function\", \"absolute_import\", \"division\", \"generators\",\n",
      "\"nested_scopes\" and \"with_statement\".  \"generators\", \"with_statement\",\n",
      "\"nested_scopes\" are redundant in Python version 2.6 and above because\n",
      "they are always enabled.\n",
      "\n",
      "A future statement is recognized and treated specially at compile\n",
      "time: Changes to the semantics of core constructs are often\n",
      "implemented by generating different code.  It may even be the case\n",
      "that a new feature introduces new incompatible syntax (such as a new\n",
      "reserved word), in which case the compiler may need to parse the\n",
      "module differently.  Such decisions cannot be pushed off until\n",
      "runtime.\n",
      "\n",
      "For any given release, the compiler knows which feature names have\n",
      "been defined, and raises a compile-time error if a future statement\n",
      "contains a feature not known to it.\n",
      "\n",
      "The direct runtime semantics are the same as for any import statement:\n",
      "there is a standard module \"__future__\", described later, and it will\n",
      "be imported in the usual way at the time the future statement is\n",
      "executed.\n",
      "\n",
      "The interesting runtime semantics depend on the specific feature\n",
      "enabled by the future statement.\n",
      "\n",
      "Note that there is nothing special about the statement:\n",
      "\n",
      "   import __future__ [as name]\n",
      "\n",
      "That is not a future statement; it's an ordinary import statement with\n",
      "no special semantics or syntax restrictions.\n",
      "\n",
      "Code compiled by an \"exec\" statement or calls to the built-in\n",
      "functions \"compile()\" and \"execfile()\" that occur in a module \"M\"\n",
      "containing a future statement will, by default, use the new  syntax or\n",
      "semantics associated with the future statement.  This can, starting\n",
      "with Python 2.2 be controlled by optional arguments to \"compile()\" ---\n",
      "see the documentation of that function for details.\n",
      "\n",
      "A future statement typed at an interactive interpreter prompt will\n",
      "take effect for the rest of the interpreter session.  If an\n",
      "interpreter is started with the \"-i\" option, is passed a script name\n",
      "to execute, and the script includes a future statement, it will be in\n",
      "effect in the interactive session started after the script is\n",
      "executed.\n",
      "\n",
      "See also:\n",
      "\n",
      "  **PEP 236** - Back to the __future__\n",
      "     The original proposal for the __future__ mechanism.\n",
      "\n",
      "Related help topics: MODULES\n",
      "\n"
     ]
    }
   ],
   "source": [
    "#need help with a command, use the help() function as shown below\n",
    "help('print')\n",
    "help('import')"
   ]
  },
  {
   "cell_type": "code",
   "execution_count": null,
   "metadata": {},
   "outputs": [],
   "source": []
  }
 ],
 "metadata": {
  "kernelspec": {
   "display_name": "Python 3",
   "language": "python",
   "name": "python3"
  },
  "language_info": {
   "codemirror_mode": {
    "name": "ipython",
    "version": 3
   },
   "file_extension": ".py",
   "mimetype": "text/x-python",
   "name": "python",
   "nbconvert_exporter": "python",
   "pygments_lexer": "ipython3",
   "version": "3.7.4"
  }
 },
 "nbformat": 4,
 "nbformat_minor": 2
}
